{
 "cells": [
  {
   "cell_type": "code",
   "execution_count": 4,
   "metadata": {
    "collapsed": false
   },
   "outputs": [
    {
     "name": "stdout",
     "output_type": "stream",
     "text": [
      "dict_keys([1, 2, 3])\n",
      "dict_values(['Red', 'Green', 'Blue'])\n"
     ]
    }
   ],
   "source": [
    "newDict = {1:\"Red\",2:\"Green\",3:\"Blue\"}\n",
    "print(newDict.keys())\n",
    "print(newDict.values())"
   ]
  },
  {
   "cell_type": "code",
   "execution_count": 6,
   "metadata": {
    "collapsed": false
   },
   "outputs": [
    {
     "name": "stdout",
     "output_type": "stream",
     "text": [
      "dict_keys(['Name', 'Age', 'GPA'])\n",
      "dict_values(['Jan', 21, 3.5])\n"
     ]
    }
   ],
   "source": [
    "newDict2 = {}\n",
    "newDict2[\"Age\"] = 21\n",
    "newDict2[\"Name\"] = \"Jan\"\n",
    "newDict2[\"GPA\"] = 3.5\n",
    "print(newDict2.keys())\n",
    "print(newDict2.values())"
   ]
  },
  {
   "cell_type": "code",
   "execution_count": 10,
   "metadata": {
    "collapsed": false
   },
   "outputs": [
    {
     "name": "stdout",
     "output_type": "stream",
     "text": [
      "dict_keys([1, 2, 3])\n",
      "dict_values(['Red', 'Blue', 'Green'])\n"
     ]
    }
   ],
   "source": [
    "newDict3 = dict(zip([1,2,3],[\"Red\",\"Blue\",\"Green\"]))\n",
    "print(newDict3.keys())\n",
    "print(newDict3.values())\n"
   ]
  },
  {
   "cell_type": "code",
   "execution_count": 12,
   "metadata": {
    "collapsed": false
   },
   "outputs": [
    {
     "name": "stdout",
     "output_type": "stream",
     "text": [
      "dict_keys(['Name', 'Age', 'GPA'])\n",
      "dict_values(['Jan', 21, 3.5])\n"
     ]
    }
   ],
   "source": [
    "newDict4 = dict(Name = \"Jan\", Age = 21, GPA = 3.5)\n",
    "print(newDict4.keys())\n",
    "print(newDict4.values())"
   ]
  },
  {
   "cell_type": "code",
   "execution_count": 18,
   "metadata": {
    "collapsed": false
   },
   "outputs": [
    {
     "data": {
      "text/plain": [
       "'Smith'"
      ]
     },
     "execution_count": 18,
     "metadata": {},
     "output_type": "execute_result"
    }
   ],
   "source": [
    "employee = {\"Name\" : {\"last\": \"Smith\", \"first\":\"John\"}, \"Occupation\" : \"Engineer\", \"salary\" : 100000}\n",
    "employee.keys()\n",
    "employee[\"Name\"]\n",
    "employee[\"Name\"][\"last\"]"
   ]
  },
  {
   "cell_type": "code",
   "execution_count": 21,
   "metadata": {
    "collapsed": false
   },
   "outputs": [
    {
     "name": "stdout",
     "output_type": "stream",
     "text": [
      "{'Name': 'Jan', 'HomeState': 'MN', 'Age': 21, 'GPA': 3.5}\n"
     ]
    }
   ],
   "source": [
    "newDict2[\"HomeState\"] = \"MN\"\n",
    "print(newDict2)"
   ]
  },
  {
   "cell_type": "code",
   "execution_count": 24,
   "metadata": {
    "collapsed": false
   },
   "outputs": [
    {
     "data": {
      "text/plain": [
       "-1"
      ]
     },
     "execution_count": 24,
     "metadata": {},
     "output_type": "execute_result"
    }
   ],
   "source": [
    "\"Red\" in newDict.values()\n",
    "D[\"Red\"] if \"Red\"  in newDict else -1"
   ]
  },
  {
   "cell_type": "code",
   "execution_count": 38,
   "metadata": {
    "collapsed": false
   },
   "outputs": [
    {
     "name": "stdout",
     "output_type": "stream",
     "text": [
      "Age\n",
      "GPA\n",
      "HomeState\n",
      "Name\n"
     ]
    }
   ],
   "source": [
    "k = list(newDict2.keys())\n",
    "k.sort()\n",
    "for key in k:\n",
    "    print(key)\n",
    "    \n"
   ]
  },
  {
   "cell_type": "code",
   "execution_count": 50,
   "metadata": {
    "collapsed": false
   },
   "outputs": [
    {
     "name": "stdout",
     "output_type": "stream",
     "text": [
      "10\n",
      "1\n",
      "7\n",
      "(2, 3, 4, 5)\n",
      "()\n",
      "0\n",
      "2\n"
     ]
    }
   ],
   "source": [
    "a = (1,2,3,4,5,6,7,5,6,7)\n",
    "print(len(a))\n",
    "print(a[0]) #First element\n",
    "print(a[-1]) #Last element\n",
    "print(a[1:5])\n",
    "print(a[-1:0])\n",
    "#a[0]= 22\n",
    "print(a.index(1))\n",
    "print(a.count(7))"
   ]
  },
  {
   "cell_type": "code",
   "execution_count": 55,
   "metadata": {
    "collapsed": false
   },
   "outputs": [
    {
     "data": {
      "text/plain": [
       "{3, 4, 5}"
      ]
     },
     "execution_count": 55,
     "metadata": {},
     "output_type": "execute_result"
    }
   ],
   "source": [
    "x = set([1,2,3,4,5])\n",
    "y = set([3,4,5,6,7])\n",
    "x.intersection(y)"
   ]
  },
  {
   "cell_type": "code",
   "execution_count": 62,
   "metadata": {
    "collapsed": false
   },
   "outputs": [
    {
     "data": {
      "text/plain": [
       "'Hello              world'"
      ]
     },
     "execution_count": 62,
     "metadata": {},
     "output_type": "execute_result"
    }
   ],
   "source": [
    "s = \"Hello              world\"\n",
    "s.rstrip()"
   ]
  },
  {
   "cell_type": "code",
   "execution_count": 64,
   "metadata": {
    "collapsed": false
   },
   "outputs": [
    {
     "data": {
      "text/plain": [
       "True"
      ]
     },
     "execution_count": 64,
     "metadata": {},
     "output_type": "execute_result"
    }
   ],
   "source": [
    "a = \"5\"\n",
    "a.isdigit()"
   ]
  },
  {
   "cell_type": "code",
   "execution_count": 72,
   "metadata": {
    "collapsed": false
   },
   "outputs": [
    {
     "name": "stdout",
     "output_type": "stream",
     "text": [
      "1\n",
      "aJUPIteraa\n"
     ]
    }
   ],
   "source": [
    "s = \"JUPIter\"\n",
    "s.casefold()\n",
    "print(s.count('UP',0,25))\n",
    "print(s.center(10,'a'))"
   ]
  },
  {
   "cell_type": "code",
   "execution_count": 73,
   "metadata": {
    "collapsed": false
   },
   "outputs": [
    {
     "name": "stdout",
     "output_type": "stream",
     "text": [
      "1.234568e+00\n",
      "1.234568\n",
      "1.23457\n",
      "1.23  \n",
      "01.23\n",
      "  +1.2\n"
     ]
    }
   ],
   "source": [
    "x=1.23456789\n",
    "print(\"%e\" %x) #exponent\n",
    "print(\"%f\" %x) #decimal\n",
    "print(\"%g\" %x) #choose format by number content\n",
    "print(\"%-6.2f\" %x)\n",
    "print(\"%05.2f\" %x)\n",
    "print(\"%+6.1f\" %x)\n"
   ]
  },
  {
   "cell_type": "code",
   "execution_count": null,
   "metadata": {
    "collapsed": true
   },
   "outputs": [],
   "source": []
  }
 ],
 "metadata": {
  "kernelspec": {
   "display_name": "Python [conda root]",
   "language": "python",
   "name": "conda-root-py"
  },
  "language_info": {
   "codemirror_mode": {
    "name": "ipython",
    "version": 3
   },
   "file_extension": ".py",
   "mimetype": "text/x-python",
   "name": "python",
   "nbconvert_exporter": "python",
   "pygments_lexer": "ipython3",
   "version": "3.5.2"
  }
 },
 "nbformat": 4,
 "nbformat_minor": 1
}
