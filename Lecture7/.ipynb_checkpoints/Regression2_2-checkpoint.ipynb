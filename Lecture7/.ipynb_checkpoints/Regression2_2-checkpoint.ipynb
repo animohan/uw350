{
 "cells": [
  {
   "cell_type": "markdown",
   "metadata": {},
   "source": [
    "# Theory of Regression and Regularization\n",
    "\n",
    "### Data Science 350\n",
    "### Stephen F Elston\n",
    "\n",
    "In this notebook we will explore the mathematical basis of linear statistical models. The emphasis is on ubiquitious problem of **model overfitting** or **model over-parameterizaton**. \n",
    "\n",
    "Overfitting or over-parameterizatio of machine learning models arrises in any case where the number of model parameters exceeds the effective dimensions of the feature set. This is most often the result of linear dependency between the features. However, using too complex a model can lead to similar problems. In the extreme case, imagine a model with as many free parameters as training cases. This model might fit the training data perfectly, but will show unstable and unexpected results when used for any other data. In machine learning terminology, we say that such an unstable model does not **generalize**. \n",
    "\n",
    "Many methods have been developed and continue to be developed to deal with over-paramterized or **ill-posed** machine learning models. In particular, in this notebook we will explore three methods for stabalizing over-parameterized models. \n",
    "\n",
    "- Stepwise regression, wherein features are eliminated from an over-parameterized model in a stepwise fashon.\n",
    "- Using a mathematical **regularization** technique, known as singular value decomposision, to determine the number of meaningful components for a model. \n",
    "- Using **regularizaton** methods known as ridge regression and lasso regression to stabalize over-parameterized models. \n",
    "\n",
    "![](img/Extrapolation.png)\n",
    "<center> **Warning!! Extrapolation can be dangerious!!**\n"
   ]
  },
  {
   "cell_type": "markdown",
   "metadata": {},
   "source": [
    "***\n",
    "**Note:** To run the code in this note book you must have installed the following packages:\n",
    "- HistData\n",
    "- dplyr\n",
    "- ggplot2\n",
    "- gridExtra\n",
    "- MASS\n",
    "- glmnet\n",
    "***"
   ]
  },
  {
   "cell_type": "markdown",
   "metadata": {},
   "source": [
    "## Stepwise Regression\n",
    "\n",
    "In this section we will work through an example of stepwise regression using the Gaulton family height data. The goal of the model is to predict the hight of adult childern given informaiton on the height of their parents. \n",
    "\n",
    "### Preparing the data\n",
    "\n",
    "As a first step we will create a data set for just the adult male childern. The code in the cell below performs the following operations:\n",
    "\n",
    "- Subset the data to just male adult childern.\n",
    "- Compute two new feaures, the heights of the parents squared.\n",
    "- Zscore scale the features.\n",
    "\n",
    "Execute this code to prepare the data. "
   ]
  },
  {
   "cell_type": "code",
   "execution_count": 1,
   "metadata": {
    "collapsed": false
   },
   "outputs": [
    {
     "name": "stderr",
     "output_type": "stream",
     "text": [
      "Loading required package: HistData\n",
      "Warning message:\n",
      "\"package 'HistData' was built under R version 3.3.2\"Loading required package: dplyr\n",
      "\n",
      "Attaching package: 'dplyr'\n",
      "\n",
      "The following objects are masked from 'package:stats':\n",
      "\n",
      "    filter, lag\n",
      "\n",
      "The following objects are masked from 'package:base':\n",
      "\n",
      "    intersect, setdiff, setequal, union\n",
      "\n"
     ]
    },
    {
     "name": "stdout",
     "output_type": "stream",
     "text": [
      "'data.frame':\t481 obs. of  5 variables:\n",
      " $ mother     : num [1:481, 1] 1.2779 1.0625 1.0625 -0.0143 -0.0143 ...\n",
      "  ..- attr(*, \"scaled:center\")= num 64\n",
      "  ..- attr(*, \"scaled:scale\")= num 2.32\n",
      " $ father     : num [1:481, 1] 4.06 2.76 2.76 2.54 2.54 ...\n",
      "  ..- attr(*, \"scaled:center\")= num 69.1\n",
      "  ..- attr(*, \"scaled:scale\")= num 2.31\n",
      " $ childHeight: num  73.2 73.5 72.5 71 70.5 68.5 72 69 68 76.5 ...\n",
      " $ mother.sqr : num [1:481, 1] 1.2958 1.0702 1.0702 -0.0326 -0.0326 ...\n",
      "  ..- attr(*, \"scaled:center\")= num 4106\n",
      "  ..- attr(*, \"scaled:scale\")= num 296\n",
      " $ father.sqr : num [1:481, 1] 4.31 2.86 2.86 2.63 2.63 ...\n",
      "  ..- attr(*, \"scaled:center\")= num 4785\n",
      "  ..- attr(*, \"scaled:scale\")= num 320\n"
     ]
    }
   ],
   "source": [
    "require(HistData)\n",
    "require(dplyr)\n",
    "males = GaltonFamilies[GaltonFamilies$gender == 'male',]\n",
    "males.ext = males[, c('mother', 'father', 'childHeight')]\n",
    "males.ext = mutate(males.ext, mother.sqr = mother^2, father.sqr = father^2)\n",
    "males.ext[, c('mother', 'father', 'mother.sqr', 'father.sqr')] = \n",
    "        lapply(males.ext[, c('mother', 'father', 'mother.sqr', 'father.sqr')], \n",
    "               scale)\n",
    "str(males.ext)"
   ]
  },
  {
   "cell_type": "markdown",
   "metadata": {
    "collapsed": false,
    "scrolled": true
   },
   "source": [
    "### Computing a model with all features\n",
    "\n",
    "As a first step, let's compute a model for the hight of the adult male childern using all available features. Execute the code in the cell below to compute this model, and print and plot evaluation information. "
   ]
  },
  {
   "cell_type": "code",
   "execution_count": 2,
   "metadata": {
    "collapsed": false
   },
   "outputs": [
    {
     "data": {
      "text/plain": [
       "\n",
       "Call:\n",
       "lm(formula = childHeight ~ ., data = males.ext)\n",
       "\n",
       "Residuals:\n",
       "    Min      1Q  Median      3Q     Max \n",
       "-9.5150 -1.5506  0.1913  1.5282  9.1044 \n",
       "\n",
       "Coefficients:\n",
       "            Estimate Std. Error t value Pr(>|t|)    \n",
       "(Intercept)  69.2341     0.1048 660.506   <2e-16 ***\n",
       "mother       -2.0659     4.1774  -0.495    0.621    \n",
       "father        2.3489     4.0186   0.584    0.559    \n",
       "mother.sqr    2.8319     4.1785   0.678    0.498    \n",
       "father.sqr   -1.3913     4.0197  -0.346    0.729    \n",
       "---\n",
       "Signif. codes:  0 '***' 0.001 '**' 0.01 '*' 0.05 '.' 0.1 ' ' 1\n",
       "\n",
       "Residual standard error: 2.299 on 476 degrees of freedom\n",
       "Multiple R-squared:  0.2388,\tAdjusted R-squared:  0.2324 \n",
       "F-statistic: 37.33 on 4 and 476 DF,  p-value: < 2.2e-16\n"
      ]
     },
     "metadata": {},
     "output_type": "display_data"
    },
    {
     "data": {
      "image/png": "[encoded data removed]",
      "text/plain": [
       "Plot with title \"\""
      ]
     },
     "metadata": {},
     "output_type": "display_data"
    },
    {
     "data": {
      "image/png": "[encoded data removed]",
      "text/plain": [
       "Plot with title \"\""
      ]
     },
     "metadata": {},
     "output_type": "display_data"
    },
    {
     "data": {
      "image/png": "[encoded data removed]",
      "text/plain": [
       "Plot with title \"\""
      ]
     },
     "metadata": {},
     "output_type": "display_data"
    },
    {
     "data": {
      "image/png": "[encoded data removed]",
      "text/plain": [
       "Plot with title \"\""
      ]
     },
     "metadata": {},
     "output_type": "display_data"
    }
   ],
   "source": [
    "lm.males = lm(childHeight ~ ., data = males.ext)\n",
    "summary(lm.males)\n",
    "plot(lm.males)"
   ]
  },
  {
   "cell_type": "markdown",
   "metadata": {},
   "source": [
    "It is clear from the summary that this model is over-parameterized. Only the intercept is significant. In other words, we are computing the average value of the lable (childHeight), but nothing more. Examination of the residual plots shows them to be mostly well behaved, except with a bit of curvature in the standardized residual plot. \n",
    "\n",
    "### Apply stepwise regression\n",
    "\n",
    "Stepwise regression using model performance metrics to prune the number of features in a model. The steps can be forward, wherein features are added one at a time in order of importance, until a point of diminished return is reachec. Or, the steps can be backward, wherein a model using all features is puruned one feature at a time in reverse order of importance. It is also possible to step in both directions. In practice, either backward steps of using both directions are used, since forward steps have a tendancy to get stuck at poor solutions. \n",
    "\n",
    "A significant issue with stepwise regression is to choose a performance metric. Many commonly used error metrics like RMSE will natually get better as we add more model parameters. Consequently the **Akaike information criterion** (AIC) is often used. We can write the AIC as:\n",
    "\n",
    "$$AIC = 2 k - 2 ln(\\hat{L})\\\\\n",
    "where\\\\\n",
    "\\hat{L} = the\\ likelihood\\ given\\ the\\ fitted\\ model\\ parmaters\\ \\hat\\theta = p(x| \\hat\\theta)\\\\\n",
    "x = observed\\ data\\\\\n",
    "k = number\\ of\\ model\\ parameters$$\n",
    "\n",
    "In words, the AIC is the model log-likelihood adjusted for the number of model parameters. The objective is to minimize the AIC. \n",
    "\n",
    "The quantity $- 2 ln(p(x| \\hat\\theta))$ is sometimes reffered to as the **deviance** of the model. Deviance is a measure of the relative likelihood of the model. Deviance is a generalization of the variance. I fact, deviance should be meaured with respect to a staturated model (number of parmeters = number of observations), but this step is often skipped.\n",
    "\n",
    "The R `MASS` library contains the `stepAIC` function which uses the AIC to perform stepwise regression on the model. Execute this code and examine the results. "
   ]
  },
  {
   "cell_type": "code",
   "execution_count": 3,
   "metadata": {
    "collapsed": false
   },
   "outputs": [
    {
     "name": "stderr",
     "output_type": "stream",
     "text": [
      "\n",
      "Attaching package: 'MASS'\n",
      "\n",
      "The following object is masked from 'package:dplyr':\n",
      "\n",
      "    select\n",
      "\n"
     ]
    },
    {
     "name": "stdout",
     "output_type": "stream",
     "text": [
      "Start:  AIC=805.76\n",
      "childHeight ~ mother + father + mother.sqr + father.sqr\n",
      "\n",
      "             Df Sum of Sq    RSS    AIC\n",
      "- father.sqr  1   0.63311 2516.2 803.88\n",
      "- mother      1   1.29252 2516.9 804.01\n",
      "- father      1   1.80550 2517.4 804.11\n",
      "- mother.sqr  1   2.42749 2518.0 804.23\n",
      "<none>                    2515.6 805.76\n",
      "\n",
      "Step:  AIC=803.88\n",
      "childHeight ~ mother + father + mother.sqr\n",
      "\n",
      "             Df Sum of Sq    RSS    AIC\n",
      "- mother      1      1.13 2517.3 802.10\n",
      "- mother.sqr  1      2.20 2518.4 802.30\n",
      "<none>                    2516.2 803.88\n",
      "+ father.sqr  1      0.63 2515.6 805.76\n",
      "- father      1    435.77 2952.0 878.71\n",
      "\n",
      "Step:  AIC=802.1\n",
      "childHeight ~ father + mother.sqr\n",
      "\n",
      "             Df Sum of Sq    RSS    AIC\n",
      "<none>                    2517.3 802.10\n",
      "+ mother      1      1.13 2516.2 803.88\n",
      "+ father.sqr  1      0.47 2516.9 804.01\n",
      "- mother.sqr  1    278.59 2795.9 850.58\n",
      "- father      1    440.17 2957.5 877.61\n"
     ]
    },
    {
     "data": {
      "text/html": [
       "<table>\n",
       "<thead><tr><th scope=col>Step</th><th scope=col>Df</th><th scope=col>Deviance</th><th scope=col>Resid. Df</th><th scope=col>Resid. Dev</th><th scope=col>AIC</th></tr></thead>\n",
       "<tbody>\n",
       "\t<tr><td>            </td><td>NA          </td><td>       NA   </td><td>476         </td><td>2515.579    </td><td>805.7622    </td></tr>\n",
       "\t<tr><td>- father.sqr</td><td> 1          </td><td>0.6331102   </td><td>477         </td><td>2516.213    </td><td>803.8832    </td></tr>\n",
       "\t<tr><td>- mother    </td><td> 1          </td><td>1.1274094   </td><td>478         </td><td>2517.340    </td><td>802.0987    </td></tr>\n",
       "</tbody>\n",
       "</table>\n"
      ],
      "text/latex": [
       "\\begin{tabular}{r|llllll}\n",
       " Step & Df & Deviance & Resid. Df & Resid. Dev & AIC\\\\\n",
       "\\hline\n",
       "\t              & NA           &        NA    & 476          & 2515.579     & 805.7622    \\\\\n",
       "\t - father.sqr &  1           & 0.6331102    & 477          & 2516.213     & 803.8832    \\\\\n",
       "\t - mother     &  1           & 1.1274094    & 478          & 2517.340     & 802.0987    \\\\\n",
       "\\end{tabular}\n"
      ],
      "text/markdown": [
       "\n",
       "Step | Df | Deviance | Resid. Df | Resid. Dev | AIC | \n",
       "|---|---|---|\n",
       "|              | NA           |        NA    | 476          | 2515.579     | 805.7622     | \n",
       "| - father.sqr |  1           | 0.6331102    | 477          | 2516.213     | 803.8832     | \n",
       "| - mother     |  1           | 1.1274094    | 478          | 2517.340     | 802.0987     | \n",
       "\n",
       "\n"
      ],
      "text/plain": [
       "  Step         Df Deviance  Resid. Df Resid. Dev AIC     \n",
       "1              NA        NA 476       2515.579   805.7622\n",
       "2 - father.sqr  1 0.6331102 477       2516.213   803.8832\n",
       "3 - mother      1 1.1274094 478       2517.340   802.0987"
      ]
     },
     "metadata": {},
     "output_type": "display_data"
    },
    {
     "data": {
      "text/plain": [
       "\n",
       "Call:\n",
       "lm(formula = childHeight ~ father + mother.sqr, data = males.ext)\n",
       "\n",
       "Residuals:\n",
       "    Min      1Q  Median      3Q     Max \n",
       "-9.5264 -1.5642  0.1983  1.5130  9.0977 \n",
       "\n",
       "Coefficients:\n",
       "            Estimate Std. Error t value Pr(>|t|)    \n",
       "(Intercept)  69.2341     0.1046 661.661  < 2e-16 ***\n",
       "father        0.9614     0.1052   9.142  < 2e-16 ***\n",
       "mother.sqr    0.7649     0.1052   7.273 1.45e-12 ***\n",
       "---\n",
       "Signif. codes:  0 '***' 0.001 '**' 0.01 '*' 0.05 '.' 0.1 ' ' 1\n",
       "\n",
       "Residual standard error: 2.295 on 478 degrees of freedom\n",
       "Multiple R-squared:  0.2383,\tAdjusted R-squared:  0.2351 \n",
       "F-statistic: 74.76 on 2 and 478 DF,  p-value: < 2.2e-16\n"
      ]
     },
     "metadata": {},
     "output_type": "display_data"
    },
    {
     "data": {
      "image/png": "[encoded data removed]",
      "text/plain": [
       "Plot with title \"\""
      ]
     },
     "metadata": {},
     "output_type": "display_data"
    },
    {
     "data": {
      "image/png": "[encoded data removed]",
      "text/plain": [
       "Plot with title \"\""
      ]
     },
     "metadata": {},
     "output_type": "display_data"
    },
    {
     "data": {
      "image/png": "[encoded data removed]",
      "text/plain": [
       "Plot with title \"\""
      ]
     },
     "metadata": {},
     "output_type": "display_data"
    },
    {
     "data": {
      "image/png": "[encoded data removed]",
      "text/plain": [
       "Plot with title \"\""
      ]
     },
     "metadata": {},
     "output_type": "display_data"
    }
   ],
   "source": [
    "library(MASS)\n",
    "lm.step = stepAIC(lm.males, direction = 'both')\n",
    "lm.step$anova # ANOVA of the result \n",
    "summary(lm.step) # Summary of the best model\n",
    "plot(lm.step)"
   ]
  },
  {
   "cell_type": "markdown",
   "metadata": {},
   "source": [
    "The summary of `stepAIC` shows the steps taken. In the first step the model without `father.sqr` has the lowest AIC, so this feature is pruned. In the next step, the model eliminating `mother` has the lowest AIC, and so this feature is pruned. At the last step, the model which eleminates no features, denoted `<none>` has the best AIC. \n",
    "\n",
    "The three coeficients for the final model are now all significant. The residual plots show similar behavior to the intial model.\n",
    "\n",
    "### Adding an interaction term\n",
    "\n",
    "We will try one last idea, adding an interaction term. In this case we will compute all possbile interactions between the heights of the mother and the father, `mother`, `father`, `mother times father`. \n",
    "\n",
    "Execute the code in the cell below to compute the model and print and plot the results. "
   ]
  },
  {
   "cell_type": "code",
   "execution_count": 4,
   "metadata": {
    "collapsed": false
   },
   "outputs": [
    {
     "data": {
      "text/plain": [
       "\n",
       "Call:\n",
       "lm(formula = childHeight ~ mother * father, data = males.ext)\n",
       "\n",
       "Residuals:\n",
       "    Min      1Q  Median      3Q     Max \n",
       "-9.5351 -1.5428  0.2078  1.4898  9.0870 \n",
       "\n",
       "Coefficients:\n",
       "              Estimate Std. Error t value Pr(>|t|)    \n",
       "(Intercept)   69.22986    0.10508 658.861  < 2e-16 ***\n",
       "mother         0.76052    0.10540   7.216 2.12e-12 ***\n",
       "father         0.95966    0.10543   9.102  < 2e-16 ***\n",
       "mother:father  0.04853    0.09593   0.506    0.613    \n",
       "---\n",
       "Signif. codes:  0 '***' 0.001 '**' 0.01 '*' 0.05 '.' 0.1 ' ' 1\n",
       "\n",
       "Residual standard error: 2.297 on 477 degrees of freedom\n",
       "Multiple R-squared:  0.2383,\tAdjusted R-squared:  0.2336 \n",
       "F-statistic: 49.76 on 3 and 477 DF,  p-value: < 2.2e-16\n"
      ]
     },
     "metadata": {},
     "output_type": "display_data"
    },
    {
     "data": {
      "image/png": "[encoded data removed]",
      "text/plain": [
       "Plot with title \"\""
      ]
     },
     "metadata": {},
     "output_type": "display_data"
    },
    {
     "data": {
      "image/png": "[encoded data removed]",
      "text/plain": [
       "Plot with title \"\""
      ]
     },
     "metadata": {},
     "output_type": "display_data"
    },
    {
     "data": {
      "image/png": "[encoded data removed]",
      "text/plain": [
       "Plot with title \"\""
      ]
     },
     "metadata": {},
     "output_type": "display_data"
    },
    {
     "data": {
      "image/png": "[encoded data removed]",
      "text/plain": [
       "Plot with title \"\""
      ]
     },
     "metadata": {},
     "output_type": "display_data"
    }
   ],
   "source": [
    "lm.interaction = lm(childHeight ~ mother*father, data = males.ext)\n",
    "summary(lm.interaction)\n",
    "plot(lm.interaction)"
   ]
  },
  {
   "cell_type": "markdown",
   "metadata": {
    "collapsed": true
   },
   "source": [
    "It is clear from the summary that the interaction term is not significant. The best model we have to this point is the one computed with stepwise regression. "
   ]
  },
  {
   "cell_type": "markdown",
   "metadata": {},
   "source": [
    "## Regularization 1, Singular Value Decomosition\n",
    "\n",
    "Now that we have explored both manual feature selection and stepwise regression, we will examine regularization methods. Regularization methods stabalize the inverse of the **model matrix**. In this section we will use the singular value decomposition method to stabalize a model matrix. \n",
    "\n",
    "You may well wonder why we need regularization methods, when we have tools like stepwise regression. Two improtant reasonse are:\n",
    "\n",
    "- Stepwise regression is a compuationally intensive process, since we must recompute the model many times. We need methods that can handel hundres, thousands, and even millions of features. \n",
    "- With stepwise regression a feature is either in or out of the model. This may not be the best choise. Perhaps a reweighting the features in some way might be better. \n",
    "\n",
    "### Linear Algebra Review\n",
    "\n",
    "Before we get into the details of regularizaton, let's review some basic linear algebra.\n",
    "\n",
    "**Note**, a simple reference guide to common linear algebra operations in R can be found at on the [Quick R website](http://www.statmethods.net/advstats/matrix.html)"
   ]
  },
  {
   "cell_type": "markdown",
   "metadata": {},
   "source": [
    "Let's start by creating two vectors of length 3."
   ]
  },
  {
   "cell_type": "code",
   "execution_count": 5,
   "metadata": {
    "collapsed": false
   },
   "outputs": [
    {
     "data": {
      "text/html": [
       "<ol class=list-inline>\n",
       "\t<li>2</li>\n",
       "\t<li>2</li>\n",
       "\t<li>2</li>\n",
       "</ol>\n"
      ],
      "text/latex": [
       "\\begin{enumerate*}\n",
       "\\item 2\n",
       "\\item 2\n",
       "\\item 2\n",
       "\\end{enumerate*}\n"
      ],
      "text/markdown": [
       "1. 2\n",
       "2. 2\n",
       "3. 2\n",
       "\n",
       "\n"
      ],
      "text/plain": [
       "[1] 2 2 2"
      ]
     },
     "metadata": {},
     "output_type": "display_data"
    },
    {
     "data": {
      "text/html": [
       "<ol class=list-inline>\n",
       "\t<li>1</li>\n",
       "\t<li>2</li>\n",
       "\t<li>3</li>\n",
       "</ol>\n"
      ],
      "text/latex": [
       "\\begin{enumerate*}\n",
       "\\item 1\n",
       "\\item 2\n",
       "\\item 3\n",
       "\\end{enumerate*}\n"
      ],
      "text/markdown": [
       "1. 1\n",
       "2. 2\n",
       "3. 3\n",
       "\n",
       "\n"
      ],
      "text/plain": [
       "[1] 1 2 3"
      ]
     },
     "metadata": {},
     "output_type": "display_data"
    }
   ],
   "source": [
    "a = rep(2, 3)\n",
    "a\n",
    "b = 1:3\n",
    "b"
   ]
  },
  {
   "cell_type": "markdown",
   "metadata": {},
   "source": [
    "We can perform some basic element-wise arithmetic opertions on vectors."
   ]
  },
  {
   "cell_type": "code",
   "execution_count": 6,
   "metadata": {
    "collapsed": false
   },
   "outputs": [
    {
     "data": {
      "text/html": [
       "<ol class=list-inline>\n",
       "\t<li>3</li>\n",
       "\t<li>4</li>\n",
       "\t<li>5</li>\n",
       "</ol>\n"
      ],
      "text/latex": [
       "\\begin{enumerate*}\n",
       "\\item 3\n",
       "\\item 4\n",
       "\\item 5\n",
       "\\end{enumerate*}\n"
      ],
      "text/markdown": [
       "1. 3\n",
       "2. 4\n",
       "3. 5\n",
       "\n",
       "\n"
      ],
      "text/plain": [
       "[1] 3 4 5"
      ]
     },
     "metadata": {},
     "output_type": "display_data"
    },
    {
     "data": {
      "text/html": [
       "<ol class=list-inline>\n",
       "\t<li>2</li>\n",
       "\t<li>4</li>\n",
       "\t<li>6</li>\n",
       "</ol>\n"
      ],
      "text/latex": [
       "\\begin{enumerate*}\n",
       "\\item 2\n",
       "\\item 4\n",
       "\\item 6\n",
       "\\end{enumerate*}\n"
      ],
      "text/markdown": [
       "1. 2\n",
       "2. 4\n",
       "3. 6\n",
       "\n",
       "\n"
      ],
      "text/plain": [
       "[1] 2 4 6"
      ]
     },
     "metadata": {},
     "output_type": "display_data"
    }
   ],
   "source": [
    "a + b\n",
    "a * b"
   ]
  },
  {
   "cell_type": "markdown",
   "metadata": {},
   "source": [
    "We can also compute the **dot product**, **scalar product** or **inner product** of two vectors of equal lenght.\n",
    "\n",
    "$$dot\\ product = \\Sigma_i^n a_i \\cdot b_i$$\n",
    "\n",
    "Give this a try by executing the code in the cell below."
   ]
  },
  {
   "cell_type": "code",
   "execution_count": 7,
   "metadata": {
    "collapsed": false
   },
   "outputs": [
    {
     "data": {
      "text/html": [
       "<table>\n",
       "<tbody>\n",
       "\t<tr><td>12</td></tr>\n",
       "</tbody>\n",
       "</table>\n"
      ],
      "text/latex": [
       "\\begin{tabular}{l}\n",
       "\t 12\\\\\n",
       "\\end{tabular}\n"
      ],
      "text/markdown": [
       "\n",
       "| 12 | \n",
       "\n",
       "\n"
      ],
      "text/plain": [
       "     [,1]\n",
       "[1,] 12  "
      ]
     },
     "metadata": {},
     "output_type": "display_data"
    }
   ],
   "source": [
    "t(a) %*% b"
   ]
  },
  {
   "cell_type": "markdown",
   "metadata": {},
   "source": [
    "The square root of the inner product of a vector with itself is the length or $L2$ norm of the vector.\n",
    "\n",
    "$$\\parallel a \\parallel = length\\ of\\ vector\\ a = \\sqrt{a \\cdot a}$$\n",
    "\n",
    "**Your Turn:** Create and exectue the code to compute the length or norm of the vector `a` in the cell below."
   ]
  },
  {
   "cell_type": "code",
   "execution_count": null,
   "metadata": {
    "collapsed": false
   },
   "outputs": [],
   "source": []
  },
  {
   "cell_type": "markdown",
   "metadata": {},
   "source": [
    "We can also write the inner product as:\n",
    "\n",
    "$$a \\cdot b = \\parallel a \\parallel \\parallel b \\parallel cos(\\theta)\\\\\n",
    "or \\\\\n",
    "cos(\\theta) = \\frac{a \\cdot b}{\\parallel a \\parallel \\parallel b \\parallel}$$\n",
    "\n",
    "Notice that the inner product of orthogonal vectors is $0$. Run the code in the cell below to see an example."
   ]
  },
  {
   "cell_type": "code",
   "execution_count": 8,
   "metadata": {
    "collapsed": false
   },
   "outputs": [
    {
     "data": {
      "text/html": [
       "<table>\n",
       "<tbody>\n",
       "\t<tr><td>0</td></tr>\n",
       "</tbody>\n",
       "</table>\n"
      ],
      "text/latex": [
       "\\begin{tabular}{l}\n",
       "\t 0\\\\\n",
       "\\end{tabular}\n"
      ],
      "text/markdown": [
       "\n",
       "| 0 | \n",
       "\n",
       "\n"
      ],
      "text/plain": [
       "     [,1]\n",
       "[1,] 0   "
      ]
     },
     "metadata": {},
     "output_type": "display_data"
    }
   ],
   "source": [
    "aa = c(1, 0, 0)\n",
    "bb = c(0, 1, 1)\n",
    "t(aa) %*% bb"
   ]
  },
  {
   "cell_type": "markdown",
   "metadata": {},
   "source": [
    "Let's try some operations on martricies. Let $A$  and $B$ be $m = 4$ rows by $n = 3$ columns matrices. "
   ]
  },
  {
   "cell_type": "code",
   "execution_count": 9,
   "metadata": {
    "collapsed": false
   },
   "outputs": [
    {
     "data": {
      "text/html": [
       "<table>\n",
       "<tbody>\n",
       "\t<tr><td>4</td><td>4</td><td>4</td></tr>\n",
       "\t<tr><td>4</td><td>4</td><td>4</td></tr>\n",
       "\t<tr><td>4</td><td>4</td><td>4</td></tr>\n",
       "\t<tr><td>4</td><td>4</td><td>4</td></tr>\n",
       "</tbody>\n",
       "</table>\n"
      ],
      "text/latex": [
       "\\begin{tabular}{lll}\n",
       "\t 4 & 4 & 4\\\\\n",
       "\t 4 & 4 & 4\\\\\n",
       "\t 4 & 4 & 4\\\\\n",
       "\t 4 & 4 & 4\\\\\n",
       "\\end{tabular}\n"
      ],
      "text/markdown": [
       "\n",
       "| 4 | 4 | 4 | \n",
       "| 4 | 4 | 4 | \n",
       "| 4 | 4 | 4 | \n",
       "| 4 | 4 | 4 | \n",
       "\n",
       "\n"
      ],
      "text/plain": [
       "     [,1] [,2] [,3]\n",
       "[1,] 4    4    4   \n",
       "[2,] 4    4    4   \n",
       "[3,] 4    4    4   \n",
       "[4,] 4    4    4   "
      ]
     },
     "metadata": {},
     "output_type": "display_data"
    },
    {
     "data": {
      "text/html": [
       "<table>\n",
       "<tbody>\n",
       "\t<tr><td>1 </td><td>5 </td><td> 9</td></tr>\n",
       "\t<tr><td>2 </td><td>6 </td><td>10</td></tr>\n",
       "\t<tr><td>3 </td><td>7 </td><td>11</td></tr>\n",
       "\t<tr><td>4 </td><td>8 </td><td>12</td></tr>\n",
       "</tbody>\n",
       "</table>\n"
      ],
      "text/latex": [
       "\\begin{tabular}{lll}\n",
       "\t 1  & 5  &  9\\\\\n",
       "\t 2  & 6  & 10\\\\\n",
       "\t 3  & 7  & 11\\\\\n",
       "\t 4  & 8  & 12\\\\\n",
       "\\end{tabular}\n"
      ],
      "text/markdown": [
       "\n",
       "| 1  | 5  |  9 | \n",
       "| 2  | 6  | 10 | \n",
       "| 3  | 7  | 11 | \n",
       "| 4  | 8  | 12 | \n",
       "\n",
       "\n"
      ],
      "text/plain": [
       "     [,1] [,2] [,3]\n",
       "[1,] 1    5     9  \n",
       "[2,] 2    6    10  \n",
       "[3,] 3    7    11  \n",
       "[4,] 4    8    12  "
      ]
     },
     "metadata": {},
     "output_type": "display_data"
    }
   ],
   "source": [
    "A = matrix(4, nrow = 4, ncol = 3)\n",
    "A\n",
    "B = matrix(1:12, nrow = 4, ncol = 3)\n",
    "B"
   ]
  },
  {
   "cell_type": "markdown",
   "metadata": {},
   "source": [
    "We can perform some arithmatic operations element by element on these matrces."
   ]
  },
  {
   "cell_type": "code",
   "execution_count": 10,
   "metadata": {
    "collapsed": false
   },
   "outputs": [
    {
     "data": {
      "text/html": [
       "<table>\n",
       "<tbody>\n",
       "\t<tr><td>5 </td><td> 9</td><td>13</td></tr>\n",
       "\t<tr><td>6 </td><td>10</td><td>14</td></tr>\n",
       "\t<tr><td>7 </td><td>11</td><td>15</td></tr>\n",
       "\t<tr><td>8 </td><td>12</td><td>16</td></tr>\n",
       "</tbody>\n",
       "</table>\n"
      ],
      "text/latex": [
       "\\begin{tabular}{lll}\n",
       "\t 5  &  9 & 13\\\\\n",
       "\t 6  & 10 & 14\\\\\n",
       "\t 7  & 11 & 15\\\\\n",
       "\t 8  & 12 & 16\\\\\n",
       "\\end{tabular}\n"
      ],
      "text/markdown": [
       "\n",
       "| 5  |  9 | 13 | \n",
       "| 6  | 10 | 14 | \n",
       "| 7  | 11 | 15 | \n",
       "| 8  | 12 | 16 | \n",
       "\n",
       "\n"
      ],
      "text/plain": [
       "     [,1] [,2] [,3]\n",
       "[1,] 5     9   13  \n",
       "[2,] 6    10   14  \n",
       "[3,] 7    11   15  \n",
       "[4,] 8    12   16  "
      ]
     },
     "metadata": {},
     "output_type": "display_data"
    },
    {
     "data": {
      "text/html": [
       "<table>\n",
       "<tbody>\n",
       "\t<tr><td> 4</td><td>20</td><td>36</td></tr>\n",
       "\t<tr><td> 8</td><td>24</td><td>40</td></tr>\n",
       "\t<tr><td>12</td><td>28</td><td>44</td></tr>\n",
       "\t<tr><td>16</td><td>32</td><td>48</td></tr>\n",
       "</tbody>\n",
       "</table>\n"
      ],
      "text/latex": [
       "\\begin{tabular}{lll}\n",
       "\t  4 & 20 & 36\\\\\n",
       "\t  8 & 24 & 40\\\\\n",
       "\t 12 & 28 & 44\\\\\n",
       "\t 16 & 32 & 48\\\\\n",
       "\\end{tabular}\n"
      ],
      "text/markdown": [
       "\n",
       "|  4 | 20 | 36 | \n",
       "|  8 | 24 | 40 | \n",
       "| 12 | 28 | 44 | \n",
       "| 16 | 32 | 48 | \n",
       "\n",
       "\n"
      ],
      "text/plain": [
       "     [,1] [,2] [,3]\n",
       "[1,]  4   20   36  \n",
       "[2,]  8   24   40  \n",
       "[3,] 12   28   44  \n",
       "[4,] 16   32   48  "
      ]
     },
     "metadata": {},
     "output_type": "display_data"
    }
   ],
   "source": [
    "A + B\n",
    "A * B"
   ]
  },
  {
   "cell_type": "markdown",
   "metadata": {},
   "source": [
    "We can multiply a $mxn$ matrix by a vector of length $n$ by taking the inner product of each row of the matrix and the vector. The result in a vector of length $n$. Each element of the result can be written at:\n",
    "\n",
    "$$y_i = \\Sigma_j^m A_{ij} \\cdot b_j$$\n",
    "\n",
    "Run the code in the cell below and examine the result. "
   ]
  },
  {
   "cell_type": "code",
   "execution_count": 11,
   "metadata": {
    "collapsed": false
   },
   "outputs": [
    {
     "data": {
      "text/html": [
       "<table>\n",
       "<tbody>\n",
       "\t<tr><td>24</td></tr>\n",
       "\t<tr><td>24</td></tr>\n",
       "\t<tr><td>24</td></tr>\n",
       "\t<tr><td>24</td></tr>\n",
       "</tbody>\n",
       "</table>\n"
      ],
      "text/latex": [
       "\\begin{tabular}{l}\n",
       "\t 24\\\\\n",
       "\t 24\\\\\n",
       "\t 24\\\\\n",
       "\t 24\\\\\n",
       "\\end{tabular}\n"
      ],
      "text/markdown": [
       "\n",
       "| 24 | \n",
       "| 24 | \n",
       "| 24 | \n",
       "| 24 | \n",
       "\n",
       "\n"
      ],
      "text/plain": [
       "     [,1]\n",
       "[1,] 24  \n",
       "[2,] 24  \n",
       "[3,] 24  \n",
       "[4,] 24  "
      ]
     },
     "metadata": {},
     "output_type": "display_data"
    }
   ],
   "source": [
    "A %*% b"
   ]
  },
  {
   "cell_type": "markdown",
   "metadata": {},
   "source": [
    "So, how do we multipy two matrices? In matrix multiplcation each element of the resulting matrix is the inner product of a row by a column. For example, the element $Y_{ij}$ of the result matrix is computed as follows:\n",
    "\n",
    "$$Y_{ij} = \\Sigma_j^m A_{ij} \\cdot B_{ji}$$\n",
    "\n",
    "Notice that the number of columns, $m$, of the first matrix must equal the number of rows of second matrix. And, that the number of rows, $n$ of the first matrix must equal the number of columns of the second metrix. In this case, the two matricies are said to be **conformable**. \n",
    "\n",
    "Give matrix multiplication a try by exectuing the code in the cell bellow."
   ]
  },
  {
   "cell_type": "code",
   "execution_count": 12,
   "metadata": {
    "collapsed": false
   },
   "outputs": [
    {
     "ename": "ERROR",
     "evalue": "Error in A %*% B: non-conformable arguments\n",
     "output_type": "error",
     "traceback": [
      "Error in A %*% B: non-conformable arguments\nTraceback:\n"
     ]
    }
   ],
   "source": [
    "A %*% B"
   ]
  },
  {
   "cell_type": "markdown",
   "metadata": {},
   "source": [
    "That operation failed! Evidently these matrices are not conformable. \n",
    "\n",
    "But, what if we take the transpose of $B$? The **transpose** of a matrix is just that matrix with the row and column indicies permuted like this:\n",
    "\n",
    "$$B_{ji}^T = B_{ij}\\\\\n",
    "where \\\\\n",
    "B\\ has\\ dimensions\\ n x m \\\\\n",
    "and \\\\\n",
    "B^T\\ has\\ dimensions\\ m x n$$ \n",
    "\n",
    "If we multiply an $n x m$ matix by an $m x n$ matrix the result is a square $n x n$ matrix. \n",
    "\n",
    "**Your Turn:** create and execute the code in the cell below to multiply the matrix A by the transpose of B. Use the R `t()` function to take the transpose of the matrix:"
   ]
  },
  {
   "cell_type": "code",
   "execution_count": null,
   "metadata": {
    "collapsed": false
   },
   "outputs": [],
   "source": []
  },
  {
   "cell_type": "markdown",
   "metadata": {},
   "source": [
    "We can define the **indentity** matrix having ones on the diagonal and zeros elsewehere.\n",
    "\n",
    "$$I = \\begin{bmatrix}\n",
    "    1  & 0 & 0 & \\dots & 0 \\\\\n",
    "    0  & 1 & 0 & \\dots & 0 \\\\\n",
    "    \\vdots &\\vdots &\\vdots & & \\vdots \\\\\n",
    "    0 & 0 & 0 & \\dots & 1\n",
    "\\end{bmatrix}$$\n",
    "\n",
    "The identity multiplied by any matrix gives that matrix. If $AB$ is a rectangular matrix then:\n",
    "\n",
    "$$AB = I \\cdot AB = AB \\cdot I$$"
   ]
  },
  {
   "cell_type": "code",
   "execution_count": 13,
   "metadata": {
    "collapsed": false
   },
   "outputs": [
    {
     "data": {
      "text/html": [
       "<table>\n",
       "<tbody>\n",
       "\t<tr><td>1</td><td>0</td><td>0</td><td>0</td></tr>\n",
       "\t<tr><td>0</td><td>1</td><td>0</td><td>0</td></tr>\n",
       "\t<tr><td>0</td><td>0</td><td>1</td><td>0</td></tr>\n",
       "\t<tr><td>0</td><td>0</td><td>0</td><td>1</td></tr>\n",
       "</tbody>\n",
       "</table>\n"
      ],
      "text/latex": [
       "\\begin{tabular}{llll}\n",
       "\t 1 & 0 & 0 & 0\\\\\n",
       "\t 0 & 1 & 0 & 0\\\\\n",
       "\t 0 & 0 & 1 & 0\\\\\n",
       "\t 0 & 0 & 0 & 1\\\\\n",
       "\\end{tabular}\n"
      ],
      "text/markdown": [
       "\n",
       "| 1 | 0 | 0 | 0 | \n",
       "| 0 | 1 | 0 | 0 | \n",
       "| 0 | 0 | 1 | 0 | \n",
       "| 0 | 0 | 0 | 1 | \n",
       "\n",
       "\n"
      ],
      "text/plain": [
       "     [,1] [,2] [,3] [,4]\n",
       "[1,] 1    0    0    0   \n",
       "[2,] 0    1    0    0   \n",
       "[3,] 0    0    1    0   \n",
       "[4,] 0    0    0    1   "
      ]
     },
     "metadata": {},
     "output_type": "display_data"
    },
    {
     "ename": "ERROR",
     "evalue": "Error in eval(expr, envir, enclos): object 'AB' not found\n",
     "output_type": "error",
     "traceback": [
      "Error in eval(expr, envir, enclos): object 'AB' not found\nTraceback:\n"
     ]
    }
   ],
   "source": [
    "I = diag(c(1, 1, 1, 1))\n",
    "I\n",
    "AB %*% I\n",
    "I %*% AB"
   ]
  },
  {
   "cell_type": "markdown",
   "metadata": {},
   "source": [
    "In principle we can compute an inverse of a matrix so that:\n",
    "\n",
    "$$A = A\\\\\n",
    "A = AI \\\\\n",
    "A^{-1}A = I$$\n",
    "\n",
    "In machine learning, we often encounter matricies where cannot be inverted directrly. Instead, we need a decompositon of $A$ that alows us to compute $A^{-1}$. One possibility is a method called singular value decomposiion or SVD:\n",
    "\n",
    "$$svd(A) = U D V^{\\ast}$$\n",
    "\n",
    "Where,\n",
    "- $U$ are the orthogonal unit norm left singular vectors.\n",
    "- $V$ are the orthogonal unit norm right singular vectors, and $V^{\\ast}$ is the conjugate transpose. For real-valued $A$ this is just $V^T$.\n",
    "- $D$ is a diagonal matrix of singular values, which are said to define a **spectrum**.\n",
    "- $A$ is comprised of the linear combination of singular vectors scaled by singular values.\n",
    "\n",
    "To compute the SVD of a matrix and view the results execute the code in the cell below."
   ]
  },
  {
   "cell_type": "code",
   "execution_count": 14,
   "metadata": {
    "collapsed": false
   },
   "outputs": [
    {
     "data": {
      "text/html": [
       "<dl>\n",
       "\t<dt>$d</dt>\n",
       "\t\t<dd><ol class=list-inline>\n",
       "\t<li>25.4368356334803</li>\n",
       "\t<li>1.72261224752106</li>\n",
       "\t<li>1.44339458725159e-15</li>\n",
       "</ol>\n",
       "</dd>\n",
       "\t<dt>$u</dt>\n",
       "\t\t<dd><table>\n",
       "<tbody>\n",
       "\t<tr><td>-0.4036176</td><td>-0.7328662</td><td>-0.2819388</td></tr>\n",
       "\t<tr><td>-0.4647441</td><td>-0.2898498</td><td> 0.7259267</td></tr>\n",
       "\t<tr><td>-0.5258707</td><td> 0.1531666</td><td>-0.6060371</td></tr>\n",
       "\t<tr><td>-0.5869972</td><td> 0.5961831</td><td> 0.1620492</td></tr>\n",
       "</tbody>\n",
       "</table>\n",
       "</dd>\n",
       "\t<dt>$v</dt>\n",
       "\t\t<dd><table>\n",
       "<tbody>\n",
       "\t<tr><td>-0.2067359</td><td> 0.8891533</td><td>-0.4082483</td></tr>\n",
       "\t<tr><td>-0.5182887</td><td> 0.2543818</td><td> 0.8164966</td></tr>\n",
       "\t<tr><td>-0.8298416</td><td>-0.3803896</td><td>-0.4082483</td></tr>\n",
       "</tbody>\n",
       "</table>\n",
       "</dd>\n",
       "</dl>\n"
      ],
      "text/latex": [
       "\\begin{description}\n",
       "\\item[\\$d] \\begin{enumerate*}\n",
       "\\item 25.4368356334803\n",
       "\\item 1.72261224752106\n",
       "\\item 1.44339458725159e-15\n",
       "\\end{enumerate*}\n",
       "\n",
       "\\item[\\$u] \\begin{tabular}{lll}\n",
       "\t -0.4036176 & -0.7328662 & -0.2819388\\\\\n",
       "\t -0.4647441 & -0.2898498 &  0.7259267\\\\\n",
       "\t -0.5258707 &  0.1531666 & -0.6060371\\\\\n",
       "\t -0.5869972 &  0.5961831 &  0.1620492\\\\\n",
       "\\end{tabular}\n",
       "\n",
       "\\item[\\$v] \\begin{tabular}{lll}\n",
       "\t -0.2067359 &  0.8891533 & -0.4082483\\\\\n",
       "\t -0.5182887 &  0.2543818 &  0.8164966\\\\\n",
       "\t -0.8298416 & -0.3803896 & -0.4082483\\\\\n",
       "\\end{tabular}\n",
       "\n",
       "\\end{description}\n"
      ],
      "text/markdown": [
       "$d\n",
       ":   1. 25.4368356334803\n",
       "2. 1.72261224752106\n",
       "3. 1.44339458725159e-15\n",
       "\n",
       "\n",
       "\n",
       "$u\n",
       ":   \n",
       "| -0.4036176 | -0.7328662 | -0.2819388 | \n",
       "| -0.4647441 | -0.2898498 |  0.7259267 | \n",
       "| -0.5258707 |  0.1531666 | -0.6060371 | \n",
       "| -0.5869972 |  0.5961831 |  0.1620492 | \n",
       "\n",
       "\n",
       "\n",
       "$v\n",
       ":   \n",
       "| -0.2067359 |  0.8891533 | -0.4082483 | \n",
       "| -0.5182887 |  0.2543818 |  0.8164966 | \n",
       "| -0.8298416 | -0.3803896 | -0.4082483 | \n",
       "\n",
       "\n",
       "\n",
       "\n",
       "\n"
      ],
      "text/plain": [
       "$d\n",
       "[1] 2.543684e+01 1.722612e+00 1.443395e-15\n",
       "\n",
       "$u\n",
       "           [,1]       [,2]       [,3]\n",
       "[1,] -0.4036176 -0.7328662 -0.2819388\n",
       "[2,] -0.4647441 -0.2898498  0.7259267\n",
       "[3,] -0.5258707  0.1531666 -0.6060371\n",
       "[4,] -0.5869972  0.5961831  0.1620492\n",
       "\n",
       "$v\n",
       "           [,1]       [,2]       [,3]\n",
       "[1,] -0.2067359  0.8891533 -0.4082483\n",
       "[2,] -0.5182887  0.2543818  0.8164966\n",
       "[3,] -0.8298416 -0.3803896 -0.4082483\n"
      ]
     },
     "metadata": {},
     "output_type": "display_data"
    }
   ],
   "source": [
    "SVD = svd(B)\n",
    "SVD"
   ]
  },
  {
   "cell_type": "markdown",
   "metadata": {},
   "source": [
    "You can verify that the singular vectors form a orthonomal basis by executing the code in the cell below:"
   ]
  },
  {
   "cell_type": "code",
   "execution_count": 15,
   "metadata": {
    "collapsed": false
   },
   "outputs": [
    {
     "data": {
      "text/html": [
       "<table>\n",
       "<tbody>\n",
       "\t<tr><td>1.000000e+00</td><td>0.00000e+00 </td><td>1.110223e-16</td></tr>\n",
       "\t<tr><td>0.000000e+00</td><td>1.00000e+00 </td><td>1.942890e-16</td></tr>\n",
       "\t<tr><td>1.110223e-16</td><td>1.94289e-16 </td><td>1.000000e+00</td></tr>\n",
       "</tbody>\n",
       "</table>\n"
      ],
      "text/latex": [
       "\\begin{tabular}{lll}\n",
       "\t 1.000000e+00 & 0.00000e+00  & 1.110223e-16\\\\\n",
       "\t 0.000000e+00 & 1.00000e+00  & 1.942890e-16\\\\\n",
       "\t 1.110223e-16 & 1.94289e-16  & 1.000000e+00\\\\\n",
       "\\end{tabular}\n"
      ],
      "text/markdown": [
       "\n",
       "| 1.000000e+00 | 0.00000e+00  | 1.110223e-16 | \n",
       "| 0.000000e+00 | 1.00000e+00  | 1.942890e-16 | \n",
       "| 1.110223e-16 | 1.94289e-16  | 1.000000e+00 | \n",
       "\n",
       "\n"
      ],
      "text/plain": [
       "     [,1]         [,2]        [,3]        \n",
       "[1,] 1.000000e+00 0.00000e+00 1.110223e-16\n",
       "[2,] 0.000000e+00 1.00000e+00 1.942890e-16\n",
       "[3,] 1.110223e-16 1.94289e-16 1.000000e+00"
      ]
     },
     "metadata": {},
     "output_type": "display_data"
    },
    {
     "data": {
      "text/html": [
       "<table>\n",
       "<tbody>\n",
       "\t<tr><td>1.000000e+00</td><td>5.551115e-17</td><td>0           </td></tr>\n",
       "\t<tr><td>5.551115e-17</td><td>1.000000e+00</td><td>0           </td></tr>\n",
       "\t<tr><td>0.000000e+00</td><td>0.000000e+00</td><td>1           </td></tr>\n",
       "</tbody>\n",
       "</table>\n"
      ],
      "text/latex": [
       "\\begin{tabular}{lll}\n",
       "\t 1.000000e+00 & 5.551115e-17 & 0           \\\\\n",
       "\t 5.551115e-17 & 1.000000e+00 & 0           \\\\\n",
       "\t 0.000000e+00 & 0.000000e+00 & 1           \\\\\n",
       "\\end{tabular}\n"
      ],
      "text/markdown": [
       "\n",
       "| 1.000000e+00 | 5.551115e-17 | 0            | \n",
       "| 5.551115e-17 | 1.000000e+00 | 0            | \n",
       "| 0.000000e+00 | 0.000000e+00 | 1            | \n",
       "\n",
       "\n"
      ],
      "text/plain": [
       "     [,1]         [,2]         [,3]\n",
       "[1,] 1.000000e+00 5.551115e-17 0   \n",
       "[2,] 5.551115e-17 1.000000e+00 0   \n",
       "[3,] 0.000000e+00 0.000000e+00 1   "
      ]
     },
     "metadata": {},
     "output_type": "display_data"
    }
   ],
   "source": [
    "t(SVD$u) %*% SVD$u\n",
    "SVD$v %*% t(SVD$v)"
   ]
  },
  {
   "cell_type": "markdown",
   "metadata": {},
   "source": [
    "The result are two identity matricies, one of dimension $n x n$ and the other of dimenstion $m x m$.\n",
    "\n",
    "We can view the product of the matrix $A$ with a vector as defining a rotation and scaling. The singular value decomposition of $A$ can be viewe as:\n",
    "\n",
    "- A first rotation defined by the unit norm singular values $V^{\\ast}$.\n",
    "- A scaling defined by the diagonal singular value matrix $D$.\n",
    "- A second rotation defined by the unit norm singular values $U$.\n",
    "\n",
    "This geometric interpertation can be visualized as shown in the figure below.\n",
    "\n",
    "![](img/SVD.png)\n",
    "\n",
    "Execute the code in the cell below and examine the rotations and scaling of the inital vector."
   ]
  },
  {
   "cell_type": "code",
   "execution_count": 16,
   "metadata": {
    "collapsed": false
   },
   "outputs": [
    {
     "data": {
      "text/html": [
       "<ol class=list-inline>\n",
       "\t<li>0.577350269189626</li>\n",
       "\t<li>0.577350269189626</li>\n",
       "\t<li>0.577350269189626</li>\n",
       "</ol>\n"
      ],
      "text/latex": [
       "\\begin{enumerate*}\n",
       "\\item 0.577350269189626\n",
       "\\item 0.577350269189626\n",
       "\\item 0.577350269189626\n",
       "\\end{enumerate*}\n"
      ],
      "text/markdown": [
       "1. 0.577350269189626\n",
       "2. 0.577350269189626\n",
       "3. 0.577350269189626\n",
       "\n",
       "\n"
      ],
      "text/plain": [
       "[1] 0.5773503 0.5773503 0.5773503"
      ]
     },
     "metadata": {},
     "output_type": "display_data"
    },
    {
     "data": {
      "text/html": [
       "<table>\n",
       "<tbody>\n",
       "\t<tr><td>1</td></tr>\n",
       "</tbody>\n",
       "</table>\n"
      ],
      "text/latex": [
       "\\begin{tabular}{l}\n",
       "\t 1\\\\\n",
       "\\end{tabular}\n"
      ],
      "text/markdown": [
       "\n",
       "| 1 | \n",
       "\n",
       "\n"
      ],
      "text/plain": [
       "     [,1]\n",
       "[1,] 1   "
      ]
     },
     "metadata": {},
     "output_type": "display_data"
    },
    {
     "name": "stdout",
     "output_type": "stream",
     "text": [
      "The first rotation"
     ]
    },
    {
     "data": {
      "text/html": [
       "<table>\n",
       "<tbody>\n",
       "\t<tr><td>-8.977024e-01</td></tr>\n",
       "\t<tr><td> 4.406023e-01</td></tr>\n",
       "\t<tr><td>-2.775558e-17</td></tr>\n",
       "</tbody>\n",
       "</table>\n"
      ],
      "text/latex": [
       "\\begin{tabular}{l}\n",
       "\t -8.977024e-01\\\\\n",
       "\t  4.406023e-01\\\\\n",
       "\t -2.775558e-17\\\\\n",
       "\\end{tabular}\n"
      ],
      "text/markdown": [
       "\n",
       "| -8.977024e-01 | \n",
       "|  4.406023e-01 | \n",
       "| -2.775558e-17 | \n",
       "\n",
       "\n"
      ],
      "text/plain": [
       "     [,1]         \n",
       "[1,] -8.977024e-01\n",
       "[2,]  4.406023e-01\n",
       "[3,] -2.775558e-17"
      ]
     },
     "metadata": {},
     "output_type": "display_data"
    },
    {
     "data": {
      "text/html": [
       "<table>\n",
       "<tbody>\n",
       "\t<tr><td>1</td></tr>\n",
       "</tbody>\n",
       "</table>\n"
      ],
      "text/latex": [
       "\\begin{tabular}{l}\n",
       "\t 1\\\\\n",
       "\\end{tabular}\n"
      ],
      "text/markdown": [
       "\n",
       "| 1 | \n",
       "\n",
       "\n"
      ],
      "text/plain": [
       "     [,1]\n",
       "[1,] 1   "
      ]
     },
     "metadata": {},
     "output_type": "display_data"
    },
    {
     "name": "stdout",
     "output_type": "stream",
     "text": [
      "The scaling"
     ]
    },
    {
     "data": {
      "text/html": [
       "<table>\n",
       "<tbody>\n",
       "\t<tr><td>-2.283471e+01</td></tr>\n",
       "\t<tr><td> 7.589869e-01</td></tr>\n",
       "\t<tr><td>-4.006225e-32</td></tr>\n",
       "</tbody>\n",
       "</table>\n"
      ],
      "text/latex": [
       "\\begin{tabular}{l}\n",
       "\t -2.283471e+01\\\\\n",
       "\t  7.589869e-01\\\\\n",
       "\t -4.006225e-32\\\\\n",
       "\\end{tabular}\n"
      ],
      "text/markdown": [
       "\n",
       "| -2.283471e+01 | \n",
       "|  7.589869e-01 | \n",
       "| -4.006225e-32 | \n",
       "\n",
       "\n"
      ],
      "text/plain": [
       "     [,1]         \n",
       "[1,] -2.283471e+01\n",
       "[2,]  7.589869e-01\n",
       "[3,] -4.006225e-32"
      ]
     },
     "metadata": {},
     "output_type": "display_data"
    },
    {
     "data": {
      "text/html": [
       "<table>\n",
       "<tbody>\n",
       "\t<tr><td>22.84732</td></tr>\n",
       "</tbody>\n",
       "</table>\n"
      ],
      "text/latex": [
       "\\begin{tabular}{l}\n",
       "\t 22.84732\\\\\n",
       "\\end{tabular}\n"
      ],
      "text/markdown": [
       "\n",
       "| 22.84732 | \n",
       "\n",
       "\n"
      ],
      "text/plain": [
       "     [,1]    \n",
       "[1,] 22.84732"
      ]
     },
     "metadata": {},
     "output_type": "display_data"
    },
    {
     "name": "stdout",
     "output_type": "stream",
     "text": [
      "The second rotation"
     ]
    },
    {
     "data": {
      "text/html": [
       "<table>\n",
       "<tbody>\n",
       "\t<tr><td> 8.660254</td></tr>\n",
       "\t<tr><td>10.392305</td></tr>\n",
       "\t<tr><td>12.124356</td></tr>\n",
       "\t<tr><td>13.856406</td></tr>\n",
       "</tbody>\n",
       "</table>\n"
      ],
      "text/latex": [
       "\\begin{tabular}{l}\n",
       "\t  8.660254\\\\\n",
       "\t 10.392305\\\\\n",
       "\t 12.124356\\\\\n",
       "\t 13.856406\\\\\n",
       "\\end{tabular}\n"
      ],
      "text/markdown": [
       "\n",
       "|  8.660254 | \n",
       "| 10.392305 | \n",
       "| 12.124356 | \n",
       "| 13.856406 | \n",
       "\n",
       "\n"
      ],
      "text/plain": [
       "     [,1]     \n",
       "[1,]  8.660254\n",
       "[2,] 10.392305\n",
       "[3,] 12.124356\n",
       "[4,] 13.856406"
      ]
     },
     "metadata": {},
     "output_type": "display_data"
    },
    {
     "data": {
      "text/html": [
       "<table>\n",
       "<tbody>\n",
       "\t<tr><td>22.84732</td></tr>\n",
       "</tbody>\n",
       "</table>\n"
      ],
      "text/latex": [
       "\\begin{tabular}{l}\n",
       "\t 22.84732\\\\\n",
       "\\end{tabular}\n"
      ],
      "text/markdown": [
       "\n",
       "| 22.84732 | \n",
       "\n",
       "\n"
      ],
      "text/plain": [
       "     [,1]    \n",
       "[1,] 22.84732"
      ]
     },
     "metadata": {},
     "output_type": "display_data"
    }
   ],
   "source": [
    "e = sqrt(1/3)\n",
    "u = c(e, e, e)\n",
    "u\n",
    "sqrt(u %*% u)\n",
    "cat('The first rotation')\n",
    "u = t(SVD$v) %*% u\n",
    "u\n",
    "sqrt(t(u) %*% u)\n",
    "cat('The scaling')\n",
    "u = diag(SVD$d) %*% u\n",
    "u\n",
    "sqrt(t(u) %*% u)\n",
    "cat('The second rotation')\n",
    "u = SVD$u %*% u\n",
    "u\n",
    "sqrt(t(u) %*% u)"
   ]
  },
  {
   "cell_type": "markdown",
   "metadata": {},
   "source": [
    "**Your Turn:** Do the following:\n",
    "- Demonstrate that the matrix `B` gives the same rotation and scale by multipling a vector `u = c(e, e, e)`. \n",
    "- Verify that the singular value decomposition is equal to the original matrix. Compute $U D V^T$. Make sure you use the full diagonal matrix of the singular values using the R code, `diag(SVD$d)`. "
   ]
  },
  {
   "cell_type": "code",
   "execution_count": null,
   "metadata": {
    "collapsed": false
   },
   "outputs": [],
   "source": []
  },
  {
   "cell_type": "markdown",
   "metadata": {},
   "source": [
    "The question now is, how do we compute $A^{-1}$ from its SVD? In most cases, there is no exact representation. But, we can come close using the **pseudo inverse** also known as the **More-Penrose inverse**, which is defined as:\n",
    "\n",
    "$$A^\\dagger = V D^+ U^*$$\n",
    "\n",
    "Where,\n",
    "\n",
    "- $D^+$ is the square diagonal matrix of **inverse sigular values** significantly greater than $0$. All other terms are set to $0$.\n",
    "- $U^*$ is the transpose of the right sigular value matrix. \n",
    "- $V$ is the left singular value matrix.\n",
    "\n",
    "The matrix, $A$ may not be of full rank. The types of long and narrow $n x m$ matricies we encounter in machine learning are typically **rank deficient**. A rank deficient matrix arrises when there is linear dependency between one or more of the columns. As an example, a matrix with correlated (not necessiarily perfectly correlated) columns is bound to be rank deficient. \n",
    "\n",
    "A matrix is considered rank deficient if it has one or more of the $m$ sigular values  $d_i  \\sim 0.0$. In this case we substitute $0.0$ values on the diagonal of $D^+$ where the singular values $d_i \\sim 0.0$. In fact, we want $d_i$ to be significanlty greater than $0$. \n",
    "\n",
    "Let's try an example. The code in the cell below computes the SVD of a matrix of random numbers chosen from a Normal distribution. The pseudo inverse is computed and multiplied by the original matrix. Execute this code and note the result."
   ]
  },
  {
   "cell_type": "code",
   "execution_count": 17,
   "metadata": {
    "collapsed": false
   },
   "outputs": [
    {
     "name": "stdout",
     "output_type": "stream",
     "text": [
      "Create a matrix of random values"
     ]
    },
    {
     "data": {
      "text/html": [
       "<table>\n",
       "<tbody>\n",
       "\t<tr><td>-1.379264  </td><td> 1.23730510</td><td>-0.7261787 </td></tr>\n",
       "\t<tr><td> 2.029482  </td><td>-0.06519317</td><td>-0.2319144 </td></tr>\n",
       "\t<tr><td> 1.912304  </td><td> 0.59030790</td><td> 1.2582239 </td></tr>\n",
       "</tbody>\n",
       "</table>\n"
      ],
      "text/latex": [
       "\\begin{tabular}{lll}\n",
       "\t -1.379264   &  1.23730510 & -0.7261787 \\\\\n",
       "\t  2.029482   & -0.06519317 & -0.2319144 \\\\\n",
       "\t  1.912304   &  0.59030790 &  1.2582239 \\\\\n",
       "\\end{tabular}\n"
      ],
      "text/markdown": [
       "\n",
       "| -1.379264   |  1.23730510 | -0.7261787  | \n",
       "|  2.029482   | -0.06519317 | -0.2319144  | \n",
       "|  1.912304   |  0.59030790 |  1.2582239  | \n",
       "\n",
       "\n"
      ],
      "text/plain": [
       "     [,1]      [,2]        [,3]      \n",
       "[1,] -1.379264  1.23730510 -0.7261787\n",
       "[2,]  2.029482 -0.06519317 -0.2319144\n",
       "[3,]  1.912304  0.59030790  1.2582239"
      ]
     },
     "metadata": {},
     "output_type": "display_data"
    },
    {
     "name": "stdout",
     "output_type": "stream",
     "text": [
      "Compute the SVD and look at the sigular values"
     ]
    },
    {
     "data": {
      "text/html": [
       "<ol class=list-inline>\n",
       "\t<li>3.27839682786073</li>\n",
       "\t<li>1.35631459204227</li>\n",
       "\t<li>1.06699590835266</li>\n",
       "</ol>\n"
      ],
      "text/latex": [
       "\\begin{enumerate*}\n",
       "\\item 3.27839682786073\n",
       "\\item 1.35631459204227\n",
       "\\item 1.06699590835266\n",
       "\\end{enumerate*}\n"
      ],
      "text/markdown": [
       "1. 3.27839682786073\n",
       "2. 1.35631459204227\n",
       "3. 1.06699590835266\n",
       "\n",
       "\n"
      ],
      "text/plain": [
       "[1] 3.278397 1.356315 1.066996"
      ]
     },
     "metadata": {},
     "output_type": "display_data"
    },
    {
     "name": "stdout",
     "output_type": "stream",
     "text": [
      "The inverse matrix of sigular values"
     ]
    },
    {
     "data": {
      "text/html": [
       "<table>\n",
       "<tbody>\n",
       "\t<tr><td>0.3050271</td><td>0.0000000</td><td>0.0000000</td></tr>\n",
       "\t<tr><td>0.0000000</td><td>0.7372921</td><td>0.0000000</td></tr>\n",
       "\t<tr><td>0.0000000</td><td>0.0000000</td><td>0.9372107</td></tr>\n",
       "</tbody>\n",
       "</table>\n"
      ],
      "text/latex": [
       "\\begin{tabular}{lll}\n",
       "\t 0.3050271 & 0.0000000 & 0.0000000\\\\\n",
       "\t 0.0000000 & 0.7372921 & 0.0000000\\\\\n",
       "\t 0.0000000 & 0.0000000 & 0.9372107\\\\\n",
       "\\end{tabular}\n"
      ],
      "text/markdown": [
       "\n",
       "| 0.3050271 | 0.0000000 | 0.0000000 | \n",
       "| 0.0000000 | 0.7372921 | 0.0000000 | \n",
       "| 0.0000000 | 0.0000000 | 0.9372107 | \n",
       "\n",
       "\n"
      ],
      "text/plain": [
       "     [,1]      [,2]      [,3]     \n",
       "[1,] 0.3050271 0.0000000 0.0000000\n",
       "[2,] 0.0000000 0.7372921 0.0000000\n",
       "[3,] 0.0000000 0.0000000 0.9372107"
      ]
     },
     "metadata": {},
     "output_type": "display_data"
    },
    {
     "name": "stdout",
     "output_type": "stream",
     "text": [
      "The pseudo inverse of the matrix"
     ]
    },
    {
     "data": {
      "text/html": [
       "<table>\n",
       "<tbody>\n",
       "\t<tr><td>-0.01156582</td><td> 0.41848502</td><td>0.07045953 </td></tr>\n",
       "\t<tr><td> 0.63169414</td><td> 0.07308543</td><td>0.37805066 </td></tr>\n",
       "\t<tr><td>-0.27878716</td><td>-0.67032049</td><td>0.51031751 </td></tr>\n",
       "</tbody>\n",
       "</table>\n"
      ],
      "text/latex": [
       "\\begin{tabular}{lll}\n",
       "\t -0.01156582 &  0.41848502 & 0.07045953 \\\\\n",
       "\t  0.63169414 &  0.07308543 & 0.37805066 \\\\\n",
       "\t -0.27878716 & -0.67032049 & 0.51031751 \\\\\n",
       "\\end{tabular}\n"
      ],
      "text/markdown": [
       "\n",
       "| -0.01156582 |  0.41848502 | 0.07045953  | \n",
       "|  0.63169414 |  0.07308543 | 0.37805066  | \n",
       "| -0.27878716 | -0.67032049 | 0.51031751  | \n",
       "\n",
       "\n"
      ],
      "text/plain": [
       "     [,1]        [,2]        [,3]      \n",
       "[1,] -0.01156582  0.41848502 0.07045953\n",
       "[2,]  0.63169414  0.07308543 0.37805066\n",
       "[3,] -0.27878716 -0.67032049 0.51031751"
      ]
     },
     "metadata": {},
     "output_type": "display_data"
    },
    {
     "name": "stdout",
     "output_type": "stream",
     "text": [
      "The pseudo inverse times the matrix"
     ]
    },
    {
     "data": {
      "text/html": [
       "<table>\n",
       "<tbody>\n",
       "\t<tr><td> 1.000000e+00</td><td>-6.245005e-17</td><td> 1.110223e-16</td></tr>\n",
       "\t<tr><td>-1.110223e-16</td><td> 1.000000e+00</td><td>-2.220446e-16</td></tr>\n",
       "\t<tr><td>-3.330669e-16</td><td>-5.551115e-17</td><td> 1.000000e+00</td></tr>\n",
       "</tbody>\n",
       "</table>\n"
      ],
      "text/latex": [
       "\\begin{tabular}{lll}\n",
       "\t  1.000000e+00 & -6.245005e-17 &  1.110223e-16\\\\\n",
       "\t -1.110223e-16 &  1.000000e+00 & -2.220446e-16\\\\\n",
       "\t -3.330669e-16 & -5.551115e-17 &  1.000000e+00\\\\\n",
       "\\end{tabular}\n"
      ],
      "text/markdown": [
       "\n",
       "|  1.000000e+00 | -6.245005e-17 |  1.110223e-16 | \n",
       "| -1.110223e-16 |  1.000000e+00 | -2.220446e-16 | \n",
       "| -3.330669e-16 | -5.551115e-17 |  1.000000e+00 | \n",
       "\n",
       "\n"
      ],
      "text/plain": [
       "     [,1]          [,2]          [,3]         \n",
       "[1,]  1.000000e+00 -6.245005e-17  1.110223e-16\n",
       "[2,] -1.110223e-16  1.000000e+00 -2.220446e-16\n",
       "[3,] -3.330669e-16 -5.551115e-17  1.000000e+00"
      ]
     },
     "metadata": {},
     "output_type": "display_data"
    }
   ],
   "source": [
    "cat('Create a matrix of random values')\n",
    "C = matrix(rnorm(9), nrow = 3, ncol = 3)\n",
    "C\n",
    "cat('Compute the SVD and look at the sigular values')\n",
    "CSVD = svd(C)\n",
    "CSVD$d\n",
    "cat('The inverse matrix of sigular values')\n",
    "D = diag(1/CSVD$d)\n",
    "D\n",
    "cat('The pseudo inverse of the matrix')\n",
    "cInv = CSVD$v %*% D %*% t(CSVD$u)\n",
    "cInv\n",
    "cat('The pseudo inverse times the matrix')\n",
    "cInv %*% C"
   ]
  },
  {
   "cell_type": "markdown",
   "metadata": {},
   "source": [
    "First, notice that the singular values are of similar magnitude and none are near zero. This matrix is not rank deficient. \n",
    "\n",
    "Let's try another example. The code in the cell below does the following:\n",
    "\n",
    "- Creates a $4 X 4$ matrix of numbers drawn from a Normal distribution.\n",
    "- Substitues values in the 4th column which are a linear combination of the other three columns.\n",
    "- Computes the SVD of this matrix.\n",
    "- Creates the inverse diagonal matrix of singular values.\n",
    "- Computes the pseudo inverse of the matrix.\n",
    "- Multiplies the pseudo inverse by the original matrix. \n",
    "\n",
    "Execute this code and examine the result."
   ]
  },
  {
   "cell_type": "code",
   "execution_count": 18,
   "metadata": {
    "collapsed": false
   },
   "outputs": [
    {
     "name": "stdout",
     "output_type": "stream",
     "text": [
      "Create a matrix of random values"
     ]
    },
    {
     "data": {
      "text/html": [
       "<table>\n",
       "<tbody>\n",
       "\t<tr><td>-0.002633318</td><td>-1.63959623 </td><td>-0.6207478  </td><td>-0.57727167 </td></tr>\n",
       "\t<tr><td>-0.579869466</td><td> 0.31077141 </td><td> 0.5408889  </td><td> 0.04656206 </td></tr>\n",
       "\t<tr><td>-0.384665984</td><td>-0.19885914 </td><td>-1.4383333  </td><td>-0.76897155 </td></tr>\n",
       "\t<tr><td> 0.633547309</td><td>-0.02195399 </td><td>-0.5393774  </td><td> 0.03327716 </td></tr>\n",
       "</tbody>\n",
       "</table>\n"
      ],
      "text/latex": [
       "\\begin{tabular}{llll}\n",
       "\t -0.002633318 & -1.63959623  & -0.6207478   & -0.57727167 \\\\\n",
       "\t -0.579869466 &  0.31077141  &  0.5408889   &  0.04656206 \\\\\n",
       "\t -0.384665984 & -0.19885914  & -1.4383333   & -0.76897155 \\\\\n",
       "\t  0.633547309 & -0.02195399  & -0.5393774   &  0.03327716 \\\\\n",
       "\\end{tabular}\n"
      ],
      "text/markdown": [
       "\n",
       "| -0.002633318 | -1.63959623  | -0.6207478   | -0.57727167  | \n",
       "| -0.579869466 |  0.31077141  |  0.5408889   |  0.04656206  | \n",
       "| -0.384665984 | -0.19885914  | -1.4383333   | -0.76897155  | \n",
       "|  0.633547309 | -0.02195399  | -0.5393774   |  0.03327716  | \n",
       "\n",
       "\n"
      ],
      "text/plain": [
       "     [,1]         [,2]        [,3]       [,4]       \n",
       "[1,] -0.002633318 -1.63959623 -0.6207478 -0.57727167\n",
       "[2,] -0.579869466  0.31077141  0.5408889  0.04656206\n",
       "[3,] -0.384665984 -0.19885914 -1.4383333 -0.76897155\n",
       "[4,]  0.633547309 -0.02195399 -0.5393774  0.03327716"
      ]
     },
     "metadata": {},
     "output_type": "display_data"
    },
    {
     "name": "stdout",
     "output_type": "stream",
     "text": [
      "Compute the SVD and look at the sigular values"
     ]
    },
    {
     "data": {
      "text/html": [
       "<ol class=list-inline>\n",
       "\t<li>2.28208409978508</li>\n",
       "\t<li>1.21291897852713</li>\n",
       "\t<li>0.998429511051342</li>\n",
       "\t<li>5.07775852115229e-17</li>\n",
       "</ol>\n"
      ],
      "text/latex": [
       "\\begin{enumerate*}\n",
       "\\item 2.28208409978508\n",
       "\\item 1.21291897852713\n",
       "\\item 0.998429511051342\n",
       "\\item 5.07775852115229e-17\n",
       "\\end{enumerate*}\n"
      ],
      "text/markdown": [
       "1. 2.28208409978508\n",
       "2. 1.21291897852713\n",
       "3. 0.998429511051342\n",
       "4. 5.07775852115229e-17\n",
       "\n",
       "\n"
      ],
      "text/plain": [
       "[1] 2.282084e+00 1.212919e+00 9.984295e-01 5.077759e-17"
      ]
     },
     "metadata": {},
     "output_type": "display_data"
    },
    {
     "name": "stdout",
     "output_type": "stream",
     "text": [
      "The inverse matrix of sigular values"
     ]
    },
    {
     "data": {
      "text/html": [
       "<table>\n",
       "<tbody>\n",
       "\t<tr><td>0.4381959   </td><td>0.0000000   </td><td>0.000000    </td><td>0.000000e+00</td></tr>\n",
       "\t<tr><td>0.0000000   </td><td>0.8244574   </td><td>0.000000    </td><td>0.000000e+00</td></tr>\n",
       "\t<tr><td>0.0000000   </td><td>0.0000000   </td><td>1.001573    </td><td>0.000000e+00</td></tr>\n",
       "\t<tr><td>0.0000000   </td><td>0.0000000   </td><td>0.000000    </td><td>1.969373e+16</td></tr>\n",
       "</tbody>\n",
       "</table>\n"
      ],
      "text/latex": [
       "\\begin{tabular}{llll}\n",
       "\t 0.4381959    & 0.0000000    & 0.000000     & 0.000000e+00\\\\\n",
       "\t 0.0000000    & 0.8244574    & 0.000000     & 0.000000e+00\\\\\n",
       "\t 0.0000000    & 0.0000000    & 1.001573     & 0.000000e+00\\\\\n",
       "\t 0.0000000    & 0.0000000    & 0.000000     & 1.969373e+16\\\\\n",
       "\\end{tabular}\n"
      ],
      "text/markdown": [
       "\n",
       "| 0.4381959    | 0.0000000    | 0.000000     | 0.000000e+00 | \n",
       "| 0.0000000    | 0.8244574    | 0.000000     | 0.000000e+00 | \n",
       "| 0.0000000    | 0.0000000    | 1.001573     | 0.000000e+00 | \n",
       "| 0.0000000    | 0.0000000    | 0.000000     | 1.969373e+16 | \n",
       "\n",
       "\n"
      ],
      "text/plain": [
       "     [,1]      [,2]      [,3]     [,4]        \n",
       "[1,] 0.4381959 0.0000000 0.000000 0.000000e+00\n",
       "[2,] 0.0000000 0.8244574 0.000000 0.000000e+00\n",
       "[3,] 0.0000000 0.0000000 1.001573 0.000000e+00\n",
       "[4,] 0.0000000 0.0000000 0.000000 1.969373e+16"
      ]
     },
     "metadata": {},
     "output_type": "display_data"
    },
    {
     "name": "stdout",
     "output_type": "stream",
     "text": [
      "The pseudo inverse of the matrix"
     ]
    },
    {
     "data": {
      "text/html": [
       "<table>\n",
       "<tbody>\n",
       "\t<tr><td>-9.088348e+14</td><td>-4.989988e+15</td><td> 1.872293e+14</td><td>-4.457306e+15</td></tr>\n",
       "\t<tr><td>-4.544174e+14</td><td>-2.494994e+15</td><td> 9.361465e+13</td><td>-2.228653e+15</td></tr>\n",
       "\t<tr><td>-9.088348e+14</td><td>-4.989988e+15</td><td> 1.872293e+14</td><td>-4.457306e+15</td></tr>\n",
       "\t<tr><td> 2.272087e+15</td><td> 1.247497e+16</td><td>-4.680732e+14</td><td> 1.114326e+16</td></tr>\n",
       "</tbody>\n",
       "</table>\n"
      ],
      "text/latex": [
       "\\begin{tabular}{llll}\n",
       "\t -9.088348e+14 & -4.989988e+15 &  1.872293e+14 & -4.457306e+15\\\\\n",
       "\t -4.544174e+14 & -2.494994e+15 &  9.361465e+13 & -2.228653e+15\\\\\n",
       "\t -9.088348e+14 & -4.989988e+15 &  1.872293e+14 & -4.457306e+15\\\\\n",
       "\t  2.272087e+15 &  1.247497e+16 & -4.680732e+14 &  1.114326e+16\\\\\n",
       "\\end{tabular}\n"
      ],
      "text/markdown": [
       "\n",
       "| -9.088348e+14 | -4.989988e+15 |  1.872293e+14 | -4.457306e+15 | \n",
       "| -4.544174e+14 | -2.494994e+15 |  9.361465e+13 | -2.228653e+15 | \n",
       "| -9.088348e+14 | -4.989988e+15 |  1.872293e+14 | -4.457306e+15 | \n",
       "|  2.272087e+15 |  1.247497e+16 | -4.680732e+14 |  1.114326e+16 | \n",
       "\n",
       "\n"
      ],
      "text/plain": [
       "     [,1]          [,2]          [,3]          [,4]         \n",
       "[1,] -9.088348e+14 -4.989988e+15  1.872293e+14 -4.457306e+15\n",
       "[2,] -4.544174e+14 -2.494994e+15  9.361465e+13 -2.228653e+15\n",
       "[3,] -9.088348e+14 -4.989988e+15  1.872293e+14 -4.457306e+15\n",
       "[4,]  2.272087e+15  1.247497e+16 -4.680732e+14  1.114326e+16"
      ]
     },
     "metadata": {},
     "output_type": "display_data"
    },
    {
     "name": "stdout",
     "output_type": "stream",
     "text": [
      "The pseudo inverse times the matrix"
     ]
    },
    {
     "data": {
      "text/html": [
       "<table>\n",
       "<tbody>\n",
       "\t<tr><td> 1       </td><td> 0.515625</td><td>-0.50    </td><td>0.218750 </td></tr>\n",
       "\t<tr><td> 0       </td><td> 1.148438</td><td>-0.25    </td><td>0.109375 </td></tr>\n",
       "\t<tr><td> 0       </td><td> 0.375000</td><td> 0.50    </td><td>0.250000 </td></tr>\n",
       "\t<tr><td>-1       </td><td>-1.500000</td><td> 2.00    </td><td>0.375000 </td></tr>\n",
       "</tbody>\n",
       "</table>\n"
      ],
      "text/latex": [
       "\\begin{tabular}{llll}\n",
       "\t  1        &  0.515625 & -0.50     & 0.218750 \\\\\n",
       "\t  0        &  1.148438 & -0.25     & 0.109375 \\\\\n",
       "\t  0        &  0.375000 &  0.50     & 0.250000 \\\\\n",
       "\t -1        & -1.500000 &  2.00     & 0.375000 \\\\\n",
       "\\end{tabular}\n"
      ],
      "text/markdown": [
       "\n",
       "|  1        |  0.515625 | -0.50     | 0.218750  | \n",
       "|  0        |  1.148438 | -0.25     | 0.109375  | \n",
       "|  0        |  0.375000 |  0.50     | 0.250000  | \n",
       "| -1        | -1.500000 |  2.00     | 0.375000  | \n",
       "\n",
       "\n"
      ],
      "text/plain": [
       "     [,1] [,2]      [,3]  [,4]    \n",
       "[1,]  1    0.515625 -0.50 0.218750\n",
       "[2,]  0    1.148438 -0.25 0.109375\n",
       "[3,]  0    0.375000  0.50 0.250000\n",
       "[4,] -1   -1.500000  2.00 0.375000"
      ]
     },
     "metadata": {},
     "output_type": "display_data"
    }
   ],
   "source": [
    "cat('Create a matrix of random values')\n",
    "C = matrix(rnorm(16), nrow = 4, ncol = 4)\n",
    "C[, 4] = 0.4 * C[, 1] + 0.2 * C[, 2] + 0.4 * C[, 3]\n",
    "C\n",
    "cat('Compute the SVD and look at the sigular values')\n",
    "CSVD = svd(C)\n",
    "CSVD$d\n",
    "cat('The inverse matrix of sigular values')\n",
    "D = diag(1/CSVD$d)\n",
    "D\n",
    "cat('The pseudo inverse of the matrix')\n",
    "cInv = CSVD$v %*% D %*% t(CSVD$u)\n",
    "cInv\n",
    "cat('The pseudo inverse times the matrix')\n",
    "cInv %*% C"
   ]
  },
  {
   "cell_type": "markdown",
   "metadata": {},
   "source": [
    "Notice the following about this result:\n",
    "\n",
    "- The 4th singular value is nearly zero. Evidently, this matrix is rank deficient. \n",
    "- The product of the pseudo inverse is not close to being the identity matrix. This is the result of taking using the unstable inverse of the rank deficient matrix.\n",
    "\n",
    "**Your Turn:** In the cell below do the following:\n",
    "\n",
    "- Set the inverse of the smallest singular value to zero.\n",
    "- Compute the pseudo inverse.\n",
    "- Compute the product of the pseudo inverse and the orginal matrix. \n",
    "- Note if the result is closer to an identity matrix. "
   ]
  },
  {
   "cell_type": "code",
   "execution_count": null,
   "metadata": {
    "collapsed": false
   },
   "outputs": [],
   "source": []
  },
  {
   "cell_type": "markdown",
   "metadata": {},
   "source": [
    "### Regression with the Pseudo Inverse\n",
    "\n",
    "We have already looked at feature selection using manual trial and error methods and stepwise regression. How can we use the pseudo inverse to create a regularized regression? \n",
    "\n",
    "Let's start by examining the **normal equation** formulation of the linear regresson problem. The goal is to compute a vector of **model coefficients** or weights which minimize the mean squared residuals, given a vector of data $x$ amd a **model matrix** $A$. We can write our model as:\n",
    "\n",
    "$$x = A b$$\n",
    "\n",
    "To solve this problem we would ideally like to compute:\n",
    "\n",
    "$$b = A^{-1}x$$\n",
    "\n",
    "However, this is hard to do directly in practice.\n",
    "\n",
    "- In typical case $A$ is long and narrow. In other words we have more data **cases** than coeficients. \n",
    "- Solving for $A^{-1}$ is computationally difficult and inefficient.\n",
    "- Solution is numerically unstable if $A$ is rank deficient. \n",
    "\n",
    "A commonly used alternative form can help:\n",
    "\n",
    "$$b = (A^TA)^{-1}A^Tx$$\n",
    "\n",
    "Now, $A^TA$ is an $m x m$ matrix. But, **$A^TA$ can still be rank deficient!** In this case, we can use the pseudo inverse $A^\\dagger$.\n",
    "\n",
    "***\n",
    "**Note:** In practice, the direct compuation of a pseudo inverse is rarely used for linear models. Instead, more compuationally efficient methods such as QR decomposition are often used. Discussion of these methods is beyond the scope of this course. Details can be found in many sources including the seminal book titled [Matrix Computations](http://web.mit.edu/ehliu/Public/sclark/Golub%20G.H.,%20Van%20Loan%20C.F.-%20Matrix%20Computations.pdf) by Gene Golub and Charles van Loan.\n",
    "***\n",
    "\n",
    "As a first step we need to create a model matrix of the features for the Gaulton height data. Execute the code in the cell below which creates a matrix from the features in the data frame and them computes the product of the transpose of this matrix with itself."
   ]
  },
  {
   "cell_type": "code",
   "execution_count": 19,
   "metadata": {
    "collapsed": false
   },
   "outputs": [
    {
     "data": {
      "text/html": [
       "<table>\n",
       "<thead><tr><th scope=col>mother</th><th scope=col>father</th><th scope=col>mother.sqr</th><th scope=col>father.sqr</th></tr></thead>\n",
       "<tbody>\n",
       "\t<tr><td> 1.27787160</td><td>4.060415   </td><td> 1.2958446 </td><td>4.309184   </td></tr>\n",
       "\t<tr><td> 1.06250501</td><td>2.759329   </td><td> 1.0702157 </td><td>2.863331   </td></tr>\n",
       "\t<tr><td> 1.06250501</td><td>2.759329   </td><td> 1.0702157 </td><td>2.863331   </td></tr>\n",
       "\t<tr><td>-0.01432792</td><td>2.542482   </td><td>-0.0325772 </td><td>2.627832   </td></tr>\n",
       "\t<tr><td>-0.01432792</td><td>2.542482   </td><td>-0.0325772 </td><td>2.627832   </td></tr>\n",
       "\t<tr><td>-0.01432792</td><td>2.542482   </td><td>-0.0325772 </td><td>2.627832   </td></tr>\n",
       "</tbody>\n",
       "</table>\n"
      ],
      "text/latex": [
       "\\begin{tabular}{llll}\n",
       " mother & father & mother.sqr & father.sqr\\\\\n",
       "\\hline\n",
       "\t  1.27787160 & 4.060415    &  1.2958446  & 4.309184   \\\\\n",
       "\t  1.06250501 & 2.759329    &  1.0702157  & 2.863331   \\\\\n",
       "\t  1.06250501 & 2.759329    &  1.0702157  & 2.863331   \\\\\n",
       "\t -0.01432792 & 2.542482    & -0.0325772  & 2.627832   \\\\\n",
       "\t -0.01432792 & 2.542482    & -0.0325772  & 2.627832   \\\\\n",
       "\t -0.01432792 & 2.542482    & -0.0325772  & 2.627832   \\\\\n",
       "\\end{tabular}\n"
      ],
      "text/markdown": [
       "\n",
       "mother | father | mother.sqr | father.sqr | \n",
       "|---|---|---|---|---|---|\n",
       "|  1.27787160 | 4.060415    |  1.2958446  | 4.309184    | \n",
       "|  1.06250501 | 2.759329    |  1.0702157  | 2.863331    | \n",
       "|  1.06250501 | 2.759329    |  1.0702157  | 2.863331    | \n",
       "| -0.01432792 | 2.542482    | -0.0325772  | 2.627832    | \n",
       "| -0.01432792 | 2.542482    | -0.0325772  | 2.627832    | \n",
       "| -0.01432792 | 2.542482    | -0.0325772  | 2.627832    | \n",
       "\n",
       "\n"
      ],
      "text/plain": [
       "     mother      father   mother.sqr father.sqr\n",
       "[1,]  1.27787160 4.060415  1.2958446 4.309184  \n",
       "[2,]  1.06250501 2.759329  1.0702157 2.863331  \n",
       "[3,]  1.06250501 2.759329  1.0702157 2.863331  \n",
       "[4,] -0.01432792 2.542482 -0.0325772 2.627832  \n",
       "[5,] -0.01432792 2.542482 -0.0325772 2.627832  \n",
       "[6,] -0.01432792 2.542482 -0.0325772 2.627832  "
      ]
     },
     "metadata": {},
     "output_type": "display_data"
    },
    {
     "data": {
      "text/html": [
       "<table>\n",
       "<thead><tr><th></th><th scope=col>mother</th><th scope=col>father</th><th scope=col>mother.sqr</th><th scope=col>father.sqr</th></tr></thead>\n",
       "<tbody>\n",
       "\t<tr><th scope=row>mother</th><td>480.00000</td><td> 42.00128</td><td>479.84641</td><td> 42.46252</td></tr>\n",
       "\t<tr><th scope=row>father</th><td> 42.00128</td><td>480.00000</td><td> 42.76013</td><td>479.83447</td></tr>\n",
       "\t<tr><th scope=row>mother.sqr</th><td>479.84641</td><td> 42.76013</td><td>480.00000</td><td> 43.25339</td></tr>\n",
       "\t<tr><th scope=row>father.sqr</th><td> 42.46252</td><td>479.83447</td><td> 43.25339</td><td>480.00000</td></tr>\n",
       "</tbody>\n",
       "</table>\n"
      ],
      "text/latex": [
       "\\begin{tabular}{r|llll}\n",
       "  & mother & father & mother.sqr & father.sqr\\\\\n",
       "\\hline\n",
       "\tmother & 480.00000 &  42.00128 & 479.84641 &  42.46252\\\\\n",
       "\tfather &  42.00128 & 480.00000 &  42.76013 & 479.83447\\\\\n",
       "\tmother.sqr & 479.84641 &  42.76013 & 480.00000 &  43.25339\\\\\n",
       "\tfather.sqr &  42.46252 & 479.83447 &  43.25339 & 480.00000\\\\\n",
       "\\end{tabular}\n"
      ],
      "text/markdown": [
       "\n",
       "| <!--/--> | mother | father | mother.sqr | father.sqr | \n",
       "|---|---|---|---|\n",
       "| mother | 480.00000 |  42.00128 | 479.84641 |  42.46252 | \n",
       "| father |  42.00128 | 480.00000 |  42.76013 | 479.83447 | \n",
       "| mother.sqr | 479.84641 |  42.76013 | 480.00000 |  43.25339 | \n",
       "| father.sqr |  42.46252 | 479.83447 |  43.25339 | 480.00000 | \n",
       "\n",
       "\n"
      ],
      "text/plain": [
       "           mother    father    mother.sqr father.sqr\n",
       "mother     480.00000  42.00128 479.84641   42.46252 \n",
       "father      42.00128 480.00000  42.76013  479.83447 \n",
       "mother.sqr 479.84641  42.76013 480.00000   43.25339 \n",
       "father.sqr  42.46252 479.83447  43.25339  480.00000 "
      ]
     },
     "metadata": {},
     "output_type": "display_data"
    }
   ],
   "source": [
    "M = as.matrix(males.ext[, c('mother', 'father', 'mother.sqr', 'father.sqr')])\n",
    "head(M)\n",
    "MTM = t(M) %*% M\n",
    "MTM"
   ]
  },
  {
   "cell_type": "markdown",
   "metadata": {
    "collapsed": true
   },
   "source": [
    "The model matrix is comprised of the values of the feature columns of the data frame. The resulting $M^T \\cdot M$ product is a `4 x 4` matrix. \n",
    "\n",
    "The next step is to compute the SVD of the resulting matrix and examine the singular values. \n",
    "\n",
    "**Your Turn:** In the cell below, create and execute the code to compute the SVD decomposition of the matrix $MTM$ and examine the singular values. Call your resulting matrix `mSVD`."
   ]
  },
  {
   "cell_type": "code",
   "execution_count": null,
   "metadata": {
    "collapsed": false
   },
   "outputs": [],
   "source": []
  },
  {
   "cell_type": "markdown",
   "metadata": {
    "collapsed": true
   },
   "source": [
    "Notice that the 3rd and 4th singular values are serveral orders of magnitude smaller than the first two. This matrix is most likelily rank deficient. \n",
    "\n",
    "The code in the cell below performs the following operations:\n",
    "\n",
    "- Creates a diagonal inverse singular value matrix with only two non-zero values. \n",
    "- Computes the pseudo inverse for the `MTM` matrix.\n",
    "- Computes $(M^TM)^{-1}M^T$ using the pseudo inverse. \n",
    "\n",
    "Execute this code and examine the results. "
   ]
  },
  {
   "cell_type": "code",
   "execution_count": 20,
   "metadata": {
    "collapsed": false
   },
   "outputs": [
    {
     "name": "stdout",
     "output_type": "stream",
     "text": [
      "Compute and print the inverse singular value matrix"
     ]
    },
    {
     "ename": "ERROR",
     "evalue": "Error in eval(expr, envir, enclos): object 'mSVD' not found\n",
     "output_type": "error",
     "traceback": [
      "Error in eval(expr, envir, enclos): object 'mSVD' not found\nTraceback:\n"
     ]
    }
   ],
   "source": [
    "cat('Compute and print the inverse singular value matrix')\n",
    "d.trim = rep(0, 4)\n",
    "d.trim[1:2] =1/ mSVD$d[1:2]\n",
    "mD = diag(d.trim)\n",
    "mD\n",
    "cat('Compute and print the pseudo inverse')\n",
    "mInv = mSVD$v %*% mD %*% t(mSVD$u)\n",
    "mInv\n",
    "cat('Compute and print the dimensions of the matrix MTMTM')\n",
    "MTMTM = mInv %*% t(M)\n",
    "dim(MTMTM)"
   ]
  },
  {
   "cell_type": "markdown",
   "metadata": {},
   "source": [
    "Now that we have an inverse matrix `MTMTM` we can compute the model coeficients. The model coeficients are just the product of `MTMTM`and the observations, or heights of the adult male childern in this case.\n",
    "\n",
    "**Your Turn:** Compute the vector, named `b`, of the model coeficients. "
   ]
  },
  {
   "cell_type": "code",
   "execution_count": null,
   "metadata": {
    "collapsed": false
   },
   "outputs": [],
   "source": []
  },
  {
   "cell_type": "markdown",
   "metadata": {},
   "source": [
    "Now that we have a vector of model coefficients, its time to evaluate our model.  We use the following steps:\n",
    "\n",
    "- Compute the predicted values or scores using the product of the model matrix and the model coefficients. We need to add the mean of the label values.\n",
    "- Compute the residuals.\n",
    "- Display residual plots and summary statistics.\n",
    "\n",
    "Execute this code and examine the results. "
   ]
  },
  {
   "cell_type": "code",
   "execution_count": null,
   "metadata": {
    "collapsed": false
   },
   "outputs": [],
   "source": [
    "males.ext$score = M %*% b + mean(males.ext$childHeight)\n",
    "males.ext$resids = males.ext$score - males.ext$childHeight\n",
    "\n",
    "require(repr)\n",
    "options(repr.pmales.extlot.width=8, repr.plot.height=4)\n",
    "\n",
    "plot.svd.reg <- function(df, k = 4){\n",
    "  require(ggplot2)\n",
    "  require(gridExtra)\n",
    "  \n",
    "  p1 <- ggplot(df) + \n",
    "            geom_point(aes(score, resids), size = 2) + \n",
    "            stat_smooth(aes(score, resids)) +\n",
    "            ggtitle('Residuals vs. fitted values')\n",
    " \n",
    "  p2 <- ggplot(df, aes(resids)) +\n",
    "           geom_histogram(aes(y = ..density..)) +\n",
    "           geom_density(color = 'red', fill = 'red', alpha = 0.2) +\n",
    "           ggtitle('Histogram of residuals')\n",
    "\n",
    "  qqnorm(df$resids)\n",
    "    \n",
    "  grid.arrange(p1, p2, ncol = 2)\n",
    "    \n",
    "  df$std.resids = sqrt((df$resids - mean(df$resids))^2)  \n",
    "    \n",
    "  p3 = ggplot(df) + \n",
    "            geom_point(aes(score, std.resids), size = 2) + \n",
    "            stat_smooth(aes(score, std.resids)) +\n",
    "            ggtitle('Standardized residuals vs. fitted values')\n",
    "  print(p3) \n",
    "    \n",
    "  n = nrow(df)\n",
    "  Ybar = mean(df$childHeight)\n",
    "  SST <- sum((df$childHeight - Ybar)^2)\n",
    "  SSR <- sum(df$resids * df$resids)\n",
    "  SSE = SST - SSR\n",
    "  cat(paste('SSE =', as.character(SSE), '\\n'))\n",
    "  cat(paste('SSR =', as.character(SSR), '\\n'))\n",
    "  cat(paste('SST =', as.character(SSE + SSR), '\\n'))\n",
    "  cat(paste('RMSE =', as.character(SSE/(n - 2)), '\\n'))\n",
    "\n",
    "  adjR2  <- 1.0 - (SSR/SST) * ((n - 1)/(n - k - 1))\n",
    "  cat(paste('Adjusted R^2 =', as.character(adjR2)), '\\n')\n",
    "}\n",
    "\n",
    "plot.svd.reg(males.ext)"
   ]
  },
  {
   "cell_type": "markdown",
   "metadata": {},
   "source": [
    "These results are comparable to the results we obtained by stepwise regression. Evidently, the pseudo inverse method worked rather well. "
   ]
  },
  {
   "cell_type": "markdown",
   "metadata": {
    "collapsed": true
   },
   "source": [
    "## Regularization 2, Ridge and Lasso Regression\n",
    "\n",
    "So far, we have looked at two approached for dealing with over-parameterized models; feature selection by stepwise regresson and singular value decomposision. In this sectio we will explore the most widely used regularization method for optimization-based machine learning models, ridge regression. \n",
    "\n",
    "The basic idea of ridge regression is to stabalize the inverse sigular value matrix,$D^+$, by **adding a small bias term**, $\\lambda$, to each of the singular values. We can state this operation in matrix notation as follows. We start with a modified form of the normal equations (also know as the **L2 or Euclidean norm** minimization problem):\n",
    "\n",
    "$$min [\\parallel A \\cdot x - b \\parallel + \\parallel \\lambda \\cdot x\\parallel]\\\\  or \\\\\n",
    "b = (A^TA + \\lambda^2)^{-1}A^Tx$$\n",
    "\n",
    "In this way, the values of small signular values do not blow up when we compute the inverse. You can see this by writing out the $D^+$ matrix with the bias term.\n",
    "\n",
    "$$D_{ridge}^+  = \\begin{bmatrix}\n",
    "    \\frac{1}{d_1 + \\lambda^2}  & 0 & 0 & \\dots & 0 \\\\\n",
    "    0  & \\frac{1}{d_2 + \\lambda^2} & 0 & \\dots & 0 \\\\\n",
    "    \\vdots &\\vdots &\\vdots & & \\vdots \\\\\n",
    "    0 & 0 & 0 & \\dots & \\frac{1}{d_m + \\lambda^2}\n",
    "\\end{bmatrix}$$\n",
    "\n",
    "Adding this bias term creates a 'ridge' in the singular value matrix, giving this method its name **ridge regression**. \n",
    "\n",
    "You can also think of ridge regression as limiting the L2 or Euclidean norm of the values of the model coeficient vector. The value of $\\lambda$ determines how much the norm of the coeficient vector constrains the solution. You can see a view of this geometric interpretaton in the figure below.  \n",
    "\n",
    "![](img/L2.jpg)\n",
    "<center> **Geometric view of L2 regularization**\n",
    "\n",
    "The same method goes by some other names, as it seems to have been 'invented' several times. In particular, **Tikhonov regularization**, or **L2 norm regularization**. In all likelihood the method was first developted by the Russian mathematician Andrey Tikhonov in the late 1940's, and first published in english in 1977.\n",
    "\n",
    "![](img/Tikhonov_board.jpg)\n",
    "<center> **Commemorative plaque for Andrey Nikolayevich Tikhonov at Moscow State University**\n",
    "\n",
    "Let's give this a try. Execute the code in the cell below which computes the $(A^TA + \\lambda^2)^{-1}A^T$ matrix with a lambda value of `0.1`."
   ]
  },
  {
   "cell_type": "code",
   "execution_count": null,
   "metadata": {
    "collapsed": false
   },
   "outputs": [],
   "source": [
    "cat('Compute and print the inverse singular value matrix')\n",
    "lambda = 0.1\n",
    "d.trim = 1/ (mSVD$d + lambda)\n",
    "mD = diag(d.trim)\n",
    "mD\n",
    "cat('Compute and print the pseudo inverse')\n",
    "mInv = mSVD$v %*% mD %*% t(mSVD$u)\n",
    "mInv\n",
    "MTMTM = mInv %*% t(M)"
   ]
  },
  {
   "cell_type": "markdown",
   "metadata": {},
   "source": [
    "**Your Turn!:** Compute the model coeficients using the $(A^TA + \\lambda^2)^{-1}A^T$ matrix you just computed. Give the result a new name and compare these results to the previously computed model coeficients. Call the new vector of model coeficients `b2`."
   ]
  },
  {
   "cell_type": "code",
   "execution_count": null,
   "metadata": {
    "collapsed": false
   },
   "outputs": [],
   "source": []
  },
  {
   "cell_type": "markdown",
   "metadata": {},
   "source": [
    "The next step is to compute the score and residuals, along with the model summary. Execute this the code below and compare these results to the one perviously computed. "
   ]
  },
  {
   "cell_type": "code",
   "execution_count": null,
   "metadata": {
    "collapsed": false
   },
   "outputs": [],
   "source": [
    "males.ext$score = M %*% b2 + mean(males.ext$childHeight)\n",
    "males.ext$resids = males.ext$score - males.ext$childHeight\n",
    "\n",
    "plot.svd.reg(males.ext)"
   ]
  },
  {
   "cell_type": "markdown",
   "metadata": {},
   "source": [
    "This results are quite similar to those computed using the SVD truncation method. Both results provide resonable regularizaitons. \n",
    "\n",
    "**Your Turn:** Create a new ridge regression model using $\\lambda = 10.0$. Compare the new model to the models computed before."
   ]
  },
  {
   "cell_type": "code",
   "execution_count": null,
   "metadata": {
    "collapsed": true
   },
   "outputs": [],
   "source": []
  },
  {
   "cell_type": "markdown",
   "metadata": {},
   "source": [
    "You can see that for small bias terms the solution does not change very much.\n",
    "\n",
    "The `glmnet` package, by Hastie and Quinn, allows us to compute a sequence of ridge regression solutions. The code in the cell below computes solutions for `20` values of $\\lambda$. Since we are performing linear regression we use a Gaussian model family for the error terms. Execute this code and examine the values of the model coefficients as $\\lambda$ increases."
   ]
  },
  {
   "cell_type": "code",
   "execution_count": null,
   "metadata": {
    "collapsed": false
   },
   "outputs": [],
   "source": [
    "require(glmnet)\n",
    "b = as.matrix(males.ext$childHeight)\n",
    "mod.ridge = glmnet(M, b, family = 'gaussian', nlambda = 20, alpha = 0.0)\n",
    "plot(mod.ridge, xvar = 'lambda', label = TRUE)\n",
    "plot(mod.ridge, xvar = 'dev', label = TRUE)"
   ]
  },
  {
   "cell_type": "markdown",
   "metadata": {},
   "source": [
    "Notice that $\\lambda$ increases, the values of the 4 model coeficients decrease toward zero. When all coeficients are zero, the model predicts all values of the label as zero! In other words, high values of $\\lambda$ give highly biased soluions, but with very low variance. For small values of $\\lambda$, the situation is just the oposite. The solution has low bias, but is quite unstable, having maximum variance. This **mean-variance trade off** is a key concept in machine learning. \n",
    "\n",
    "We can also do regularization using other norms. **Lasso or L1 regularizaton** limits the sum of the absolute values of the model coefients. The L1 norm is sometime know as the **Manhattan norm**, since distrance are measured as if you were traveling on a rectangular grid of streets. \n",
    "\n",
    "You can also think of lasso regression as limiting the L1 norm of the values of the model coeficient vector. The value of $\\lambda$ determines how much the norm of the coeficient vector constrains the solution. You can see a view of this geometric interpretaton in the figure below.  \n",
    "\n",
    "![](img/L1.jpg)\n",
    "<center> **Geometric view of L1 regularization**\n",
    "\n",
    "By setting the `alpha` argument to `glmnet` to zero you can perform lasso regresson. Execute the code in the cell below to compute and evaluate a lasso regression model with 20 values of lambda."
   ]
  },
  {
   "cell_type": "code",
   "execution_count": null,
   "metadata": {
    "collapsed": false
   },
   "outputs": [],
   "source": [
    "mod.lasso = glmnet(M, b, family = 'gaussian', nlambda = 20, alpha = 1.0)\n",
    "plot(mod.lasso, xvar = 'lambda', label = TRUE)\n",
    "plot(mod.lasso, xvar = 'dev', label = TRUE)"
   ]
  },
  {
   "cell_type": "markdown",
   "metadata": {},
   "source": [
    "Notice that model coeficients are much more tightly constrianed than for L2 regularization. In fact, only two of the possible model coeficients have non-zero values at all. This is typical of L1 or lasso regression.\n",
    "\n",
    "The **elastic net** algorthm uses a weighted combination of L2 and L1 regularization. The `alpha` argument to the `glmnet` function determines the relative weight of the two methods. If `alpha = 0`, the regularization is pure L2 and if `alpha = 1.0` the regularization is pure L1. \n",
    "\n",
    "The code in the cell below gives equal weight to each regression method. Excute this code and examine the results."
   ]
  },
  {
   "cell_type": "code",
   "execution_count": null,
   "metadata": {
    "collapsed": false
   },
   "outputs": [],
   "source": [
    "mod.ridge.lasso = glmnet(M, b, family = 'gaussian', nlambda = 20, alpha = 0.5)\n",
    "plot(mod.ridge.lasso, xvar = 'lambda', label = TRUE)\n",
    "plot(mod.ridge.lasso, xvar = 'dev', label = TRUE)"
   ]
  },
  {
   "cell_type": "markdown",
   "metadata": {},
   "source": [
    "Notice that the elastic net model combines some of the behaviors of both L2 and L1 regularization. \n",
    "\n",
    "As a next step, we will evaluate this mode by the following steps.\n",
    "- Create a score vector using the `predict` method on the model and using the original model matrix.\n",
    "- Compute residuals.\n",
    "- Plot and print summaries of the model performance.\n",
    "\n",
    "Run this code and examine the results."
   ]
  },
  {
   "cell_type": "code",
   "execution_count": null,
   "metadata": {
    "collapsed": false
   },
   "outputs": [],
   "source": [
    "males.ext$score = predict(mod.ridge.lasso, newx = M)[, 15]\n",
    "males.ext$resids = males.ext$score - males.ext$childHeight\n",
    "\n",
    "plot.svd.reg(males.ext)"
   ]
  },
  {
   "cell_type": "markdown",
   "metadata": {},
   "source": [
    "The results are similar to those obtained using both stepwise regression and the pseudo inverse method. For this small problem all three methods seem to work."
   ]
  },
  {
   "cell_type": "markdown",
   "metadata": {},
   "source": [
    "## Categorical Variables and the Model Matrix\n",
    "\n",
    "Up until now we have only been working with numeric data. How can we handle categorical varibles? \n",
    "\n",
    "We need to encode the categorical variables into one or moree numeric variables. The common approach is to convert the categorical variable to a set of binary **dummy variables** or **indicator variables**. \n",
    "\n",
    "In R, and other analytical software, he \n",
    "\n",
    "The code in the cell below computes the scaled model data frame. Execute this code and examine the summary of the data frame."
   ]
  },
  {
   "cell_type": "code",
   "execution_count": null,
   "metadata": {
    "collapsed": false
   },
   "outputs": [],
   "source": [
    "Galton.scaled = GaltonFamilies[, c('mother', 'father', 'childHeight', 'gender')]\n",
    "Galton.scaled = mutate(Galton.scaled, \n",
    "                       mother.sqr = mother^2, father.sqr = father^2)\n",
    "Galton.scaled[, c('mother', 'father', 'mother.sqr', 'father.sqr')] = \n",
    "        lapply(Galton.scaled[, c('mother', 'father', 'mother.sqr', 'father.sqr')], \n",
    "               scale)\n",
    "str(Galton.scaled)"
   ]
  },
  {
   "cell_type": "markdown",
   "metadata": {},
   "source": [
    "Categorical (factor) variables are converted to one or more dummy variables. \n",
    "\n",
    "Execute the  code in the cell below and examine the results. "
   ]
  },
  {
   "cell_type": "code",
   "execution_count": null,
   "metadata": {
    "collapsed": false
   },
   "outputs": [],
   "source": [
    "mod.mat = model.matrix(childHeight ~ ., data = Galton.scaled)\n",
    "mod.mat[1:10, ]"
   ]
  },
  {
   "cell_type": "code",
   "execution_count": null,
   "metadata": {
    "collapsed": false
   },
   "outputs": [],
   "source": [
    "typeof(mod.mat[, 4])"
   ]
  },
  {
   "cell_type": "markdown",
   "metadata": {},
   "source": [
    "Notice that the categorical variable `gender` is now coded as a single numeric variable with two possible values.\n",
    "\n",
    "**Your Turn:** Create and execute the code to print the first few lines of a the model matrix without an intercept term. **Hint**, you need to add `-1` to the model formula to drop the intercept term."
   ]
  },
  {
   "cell_type": "code",
   "execution_count": null,
   "metadata": {
    "collapsed": false
   },
   "outputs": [],
   "source": []
  },
  {
   "cell_type": "markdown",
   "metadata": {},
   "source": [
    "Notice how the coding of the `gender` feature has changed. Why do you think this is?\n",
    "\n",
    "Now, it is time to compute and evaluate the model. The code in the cell below does the following:\n",
    "- Compute the model.\n",
    "- Compute the scores from the model using the original model matrix.\n",
    "- Compute the residuals.\n",
    "- Plot and print model performance diagnositics. \n",
    "\n",
    "Execute this code and examine the results."
   ]
  },
  {
   "cell_type": "code",
   "execution_count": null,
   "metadata": {
    "collapsed": false
   },
   "outputs": [],
   "source": [
    "b.mat = as.matrix(Galton.scaled$childHeight)\n",
    "mod.ridge.gender = glmnet(mod.mat, b.mat, family = 'gaussian', \n",
    "                          nlambda = 20, alpha = 0.5)\n",
    "\n",
    "Galton.scaled$score = predict(mod.ridge.gender, newx = mod.mat)[, 15]\n",
    "Galton.scaled$resids = Galton.scaled$score - Galton.scaled$childHeight\n",
    "\n",
    "plot.svd.reg(Galton.scaled)"
   ]
  },
  {
   "cell_type": "markdown",
   "metadata": {},
   "source": [
    "Notice, that this model has both a larger $R^2$ and RMSE. Why do you think this is?\n",
    "\n",
    "**Your Turn:** For the model you have just created plot the model coeficients vs. $\\lambda$ and the deviance vs. $\\lambda$. How can you interpret these result with particular attention on the categorical feature, 4."
   ]
  },
  {
   "cell_type": "code",
   "execution_count": null,
   "metadata": {
    "collapsed": false
   },
   "outputs": [],
   "source": []
  },
  {
   "cell_type": "markdown",
   "metadata": {},
   "source": [
    "## Logistic Regresson\n",
    "\n",
    "Untill now, we have been working strictly with linear regression models. Now we will look at a widely used variation on the linear model know as **logistic regresson**.\n",
    "\n",
    "Logistic regression is widely used as a classification model. Logistic regression is linear model, with a binary response, `{False, True}` or `{0, 1}`.  However, the response is computed as a log likelihood. In the simplest case, the response has a Binomial distribution. \n",
    "\n",
    "The linear response of the linear model is transformed to the log likelihood using a sigmodial function, also know as the **logistic function**:\n",
    "\n",
    "$$f(x) = \\frac{e^{-\\kappa(x - x_0}}{1 + e^{-\\kappa(x - x_0}} \\\\\n",
    "\\kappa = steepness$$\n",
    "\n",
    "Execute the code in the cell below to compute and plot an example of the logistic function."
   ]
  },
  {
   "cell_type": "code",
   "execution_count": null,
   "metadata": {
    "collapsed": false
   },
   "outputs": [],
   "source": [
    "options(repr.pmales.extlot.width=6, repr.plot.height=4)\n",
    "\n",
    "xseq = seq(-7, 7, length.out = 500)\n",
    "plot.logistic = function(v){\n",
    "  require(ggplot2)\n",
    "  logistic = exp(xseq - v)/(1 + exp(xseq - v))\n",
    "  df = data.frame(x = xseq, y = logistic)\n",
    "  ggplot(df, aes(x,y)) +\n",
    "    geom_line(size = 2, color = 'red') +\n",
    "    geom_vline(xintercept = v, size = 2, color = 'black') +\n",
    "    geom_hline(yintercept = 0.5, size = 2, color = 'black') +\n",
    "    ylab('log likelihood') + xlab('Value of x') +\n",
    "    ggtitle('Logistic function for two-class classification') +\n",
    "    theme_grey(base_size = 18)\n",
    "}\n",
    "plot.logistic(0)"
   ]
  },
  {
   "cell_type": "markdown",
   "metadata": {},
   "source": [
    "We will try to classify the gender of the childern in the Gaulton families data set using the height data.\n",
    "\n",
    "As a first step, we need to create a scaled model matrix of the features for the logistic regression. Run the code in the cell bellow to compute this matrix."
   ]
  },
  {
   "cell_type": "code",
   "execution_count": null,
   "metadata": {
    "collapsed": false
   },
   "outputs": [],
   "source": [
    "Galton.gender = GaltonFamilies[, c('mother', 'father', 'childHeight', 'gender')]\n",
    "Galton.gender[, c('mother', 'father', 'childHeight')] = \n",
    "        lapply(Galton.gender[, c('mother', 'father', 'childHeight')], \n",
    "               scale)\n",
    "mod.gender = model.matrix(gender ~ ., data = Galton.gender)\n",
    "mod.gender[1:10, ]"
   ]
  },
  {
   "cell_type": "markdown",
   "metadata": {},
   "source": [
    "The code in the cell below using the `glmnet` function to compute the regression of to predict gender using a binomial distribution. The score or response is then computed and printed. Execute this code and examine the results."
   ]
  },
  {
   "cell_type": "code",
   "execution_count": null,
   "metadata": {
    "collapsed": false
   },
   "outputs": [],
   "source": [
    "b.gender = as.matrix(Galton.gender$gender)\n",
    "b.gender = ifelse(b.gender == 'male', 1, 0)\n",
    "mod.class = glmnet(mod.gender, b.gender, family = 'binomial', \n",
    "                          nlambda = 20, alpha = 0.5)\n",
    "\n",
    "Galton.gender$score = predict(mod.class, newx = mod.gender)[, 15]\n",
    "Galton.gender[1:10, c('score', 'gender')]"
   ]
  },
  {
   "cell_type": "markdown",
   "metadata": {},
   "source": [
    "Next we need to transfom the response to the binary output using the logistic function. The code in the cell below applies the logistic transformation and sets the categories for the score. Run this code and  examine the result."
   ]
  },
  {
   "cell_type": "code",
   "execution_count": null,
   "metadata": {
    "collapsed": false
   },
   "outputs": [],
   "source": [
    "Galton.gender$score = exp(Galton.gender$score)/(1 + exp(Galton.gender$score))\n",
    "Galton.gender$score = ifelse(Galton.gender$score > 0.5, \"male\", \"female\")\n",
    "Galton.gender[1:10, c('score', 'gender')]"
   ]
  },
  {
   "cell_type": "markdown",
   "metadata": {},
   "source": [
    "The code in the cell below computes some common performance statistics for binary classifiers. The overall performance of the binary classifier is summarized by the elements of a **confusion matrix**. \n",
    "\n",
    "Run this code and examine the results."
   ]
  },
  {
   "cell_type": "code",
   "execution_count": null,
   "metadata": {
    "collapsed": false
   },
   "outputs": [],
   "source": [
    "logistic.eval <- function(df){ \n",
    "  # First step is to find the TP, FP, TN, FN cases\n",
    "  df$conf <- ifelse(df$gender == 'male' & df$score == 'male', 'TP',\n",
    "                    ifelse(df$gender == 'female' & df$score == 'male', 'FP',\n",
    "                           ifelse(df$gender == 'female' & df$score == 'female', 'TN', 'FN')))\n",
    "\n",
    "  # Elements of the confusion matrix\n",
    "  TP = length(df[df$conf == 'TP', 'conf'])\n",
    "  FP = length(df[df$conf == 'FP', 'conf'])\n",
    "  TN = length(df[df$conf == 'TN', 'conf'])\n",
    "  FN = length(df[df$conf == 'FN', 'conf'])\n",
    "    \n",
    "  out <- data.frame(Positive = c(TP, FP), Negative = c(FN, TN))\n",
    "  row.names(out) <- c('TruePos', 'TrueNeg')\n",
    "  print(out)  \n",
    "  \n",
    "  # Compute and rint metrics\n",
    "  cat('\\n')\n",
    "  cat(paste('accuracy =', as.character((TP + TN)/(TP + TN + FP + FN)), '\\n'))      \n",
    "  cat(paste('precision =', as.character(signif(TP/(TP + FP)), digits = 2)), '\\n')     \n",
    "  cat(paste('recall =', as.character(TP/(TP + FN))))\n",
    "}\n",
    "logistic.eval(Galton.gender)"
   ]
  },
  {
   "cell_type": "markdown",
   "metadata": {},
   "source": [
    "In the confusion matrix males are defined as Positive cases and females are Negtive cases. Notice that most of the cases in this data are correctly classified with only a few false negatives and false positives.\n",
    "\n",
    "The other metrics are defined as follows:\n",
    "\n",
    "- Accuracy = (TP + TN) / (TP + FP + TN + FN)\n",
    "- Precision = TP / (TP + FP)\n",
    "- Recall = TP / (TP + FN)\n",
    "\n",
    "These summary statistics show the classifier works fairly well."
   ]
  },
  {
   "cell_type": "markdown",
   "metadata": {},
   "source": [
    "#### Copyright 2017, Stephen F Elston. All rights reserved."
   ]
  },
  {
   "cell_type": "code",
   "execution_count": null,
   "metadata": {
    "collapsed": true
   },
   "outputs": [],
   "source": []
  }
 ],
 "metadata": {
  "anaconda-cloud": {},
  "kernelspec": {
   "display_name": "Python [conda root]",
   "language": "python",
   "name": "conda-root-py"
  },
  "language_info": {
   "codemirror_mode": {
    "name": "ipython",
    "version": 3
   },
   "file_extension": ".py",
   "mimetype": "text/x-python",
   "name": "python",
   "nbconvert_exporter": "python",
   "pygments_lexer": "ipython3",
   "version": "3.5.2"
  }
 },
 "nbformat": 4,
 "nbformat_minor": 1
}
